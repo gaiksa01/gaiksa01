{
  "nbformat": 4,
  "nbformat_minor": 0,
  "metadata": {
    "colab": {
      "provenance": [],
      "authorship_tag": "ABX9TyOTivcMeO4ZtFdAjDLXmwbP",
      "include_colab_link": true
    },
    "kernelspec": {
      "name": "python3",
      "display_name": "Python 3"
    },
    "language_info": {
      "name": "python"
    }
  },
  "cells": [
    {
      "cell_type": "markdown",
      "metadata": {
        "id": "view-in-github",
        "colab_type": "text"
      },
      "source": [
        "<a href=\"https://colab.research.google.com/github/gaiksa01/gaiksa01/blob/main/Diabetes_SL.ipynb\" target=\"_parent\"><img src=\"https://colab.research.google.com/assets/colab-badge.svg\" alt=\"Open In Colab\"/></a>"
      ]
    },
    {
      "cell_type": "code",
      "execution_count": 40,
      "metadata": {
        "colab": {
          "base_uri": "https://localhost:8080/"
        },
        "id": "O8ry00ZSiGrU",
        "outputId": "5d0ebb87-d282-4540-a5c4-7ec004e448ac"
      },
      "outputs": [
        {
          "output_type": "stream",
          "name": "stdout",
          "text": [
            "The autoreload extension is already loaded. To reload it, use:\n",
            "  %reload_ext autoreload\n"
          ]
        }
      ],
      "source": [
        "import numpy as np\n",
        "import pandas as pd\n",
        "import seaborn as sns\n",
        "import matplotlib.pyplot as plt\n",
        "from sklearn.metrics import accuracy_score\n",
        "from sklearn.model_selection import (GridSearchCV, train_test_split, validation_curve)   \n",
        "from sklearn.ensemble import AdaBoostClassifier\n",
        "from sklearn.metrics import  accuracy_score, f1_score, precision_score, recall_score, roc_auc_score\n",
        "from sklearn.svm import SVC\n",
        "from sklearn import tree\n",
        "from sklearn.tree import DecisionTreeClassifier\n",
        "from sklearn.neighbors import KNeighborsClassifier\n",
        "from sklearn.neural_network import MLPClassifier\n",
        "from sklearn import preprocessing\n",
        "from sklearn.model_selection import learning_curve\n",
        "from numpy.lib.function_base import average\n",
        "from sklearn.model_selection import cross_val_score\n",
        "from sklearn.metrics import confusion_matrix\n",
        "import math\n",
        "import time\n",
        "import warnings\n",
        "warnings.filterwarnings(\"ignore\")\n",
        "np.random.seed(50)\n",
        "%load_ext autoreload\n",
        "%autoreload 2"
      ]
    },
    {
      "cell_type": "markdown",
      "source": [
        "The Pima Indians dataset is a well-known dataset used in machine learning and healthcare research. The dataset contains health information for a population of Pima Indians, including various demographic and health measures such as glucose levels, blood pressure, skin thickness, and body mass index. "
      ],
      "metadata": {
        "id": "h77xxSrJmk7y"
      }
    },
    {
      "cell_type": "code",
      "source": [
        "\n",
        "db_set=pd.read_csv('Pima_diabetes.csv')\n",
        "\n",
        "#feature variables\n",
        "X=db_set.drop(['Outcome'], axis=1)\n",
        "#target variable\n",
        "y=db_set.Outcome\n",
        "\n",
        "print('Total number of examples in the dataset: %d' % X.shape[0])\n",
        "print('Fraction of positive examples: %.2f%%' % (y[y == 1].shape[0]/y.shape[0]*100.0))\n",
        "\n",
        "# Standardize data\n",
        "X = preprocessing.scale(X)\n",
        "# Data structures for storing best accuracies, training time and test time\n",
        "num_classifiers = 5\n",
        "best_accuracy = np.zeros(num_classifiers)\n",
        "train_time = np.zeros(num_classifiers)\n",
        "test_time = np.zeros(num_classifiers)"
      ],
      "metadata": {
        "colab": {
          "base_uri": "https://localhost:8080/"
        },
        "id": "HmC2fS4ki4IS",
        "outputId": "0814bd6b-f6fd-4a15-942a-3a9f69f5d063"
      },
      "execution_count": 2,
      "outputs": [
        {
          "output_type": "stream",
          "name": "stdout",
          "text": [
            "Total number of examples in the dataset: 768\n",
            "Fraction of positive examples: 34.90%\n"
          ]
        }
      ]
    },
    {
      "cell_type": "code",
      "source": [
        "db_set['BMI'] = db_set['BMI'].replace(0, db_set['BMI'].mean())\n",
        "db_set['BloodPressure'] = db_set['BloodPressure'].replace(0, db_set['BloodPressure'].mean())\n",
        "db_set['Glucose'] = db_set['Glucose'].replace(0, db_set['Glucose'].mean())\n",
        "db_set['Insulin'] = db_set['Insulin'].replace(0, db_set['Insulin'].mean())\n",
        "db_set['SkinThickness'] = db_set['SkinThickness'].replace(0, db_set['SkinThickness'].mean())"
      ],
      "metadata": {
        "id": "AYqBAYZVrrM7"
      },
      "execution_count": 3,
      "outputs": []
    },
    {
      "cell_type": "code",
      "source": [
        "outlier = db_set['Pregnancies'].quantile(0.98)\n",
        "# removing the top 2% data from the pregnancies column\n",
        "db_set = db_set[db_set['Pregnancies']<outlier]\n",
        "\n",
        "outlier = db_set['BMI'].quantile(0.99)\n",
        "# removing the top 1% data from BMI column\n",
        "db_set = db_set[db_set['BMI']<outlier]\n",
        "\n",
        "outlier = db_set['SkinThickness'].quantile(0.99)\n",
        "# removing the top 1% data from SkinThickness column\n",
        "db_set = db_set[db_set['SkinThickness']<outlier]\n",
        "\n",
        "outlier = db_set['Insulin'].quantile(0.95)\n",
        "# removing the top 5% data from Insulin column\n",
        "data = db_set[db_set['Insulin']<outlier]\n",
        "\n",
        "outlier = db_set['DiabetesPedigreeFunction'].quantile(0.99)\n",
        "# removing the top 1% data from DiabetesPedigreeFunction column\n",
        "data = db_set[db_set['DiabetesPedigreeFunction']<outlier]\n",
        "\n",
        "\n",
        "outlier = db_set['Age'].quantile(0.99)\n",
        "# removing the top 1% data from Age column\n",
        "data = db_set[db_set['Age']<outlier]"
      ],
      "metadata": {
        "id": "Psc_364lsSdE"
      },
      "execution_count": 4,
      "outputs": []
    },
    {
      "cell_type": "code",
      "source": [
        "db_set.head()"
      ],
      "metadata": {
        "colab": {
          "base_uri": "https://localhost:8080/",
          "height": 206
        },
        "id": "TocA7NtYqhdx",
        "outputId": "5a8c127d-a3a0-480c-fea6-09aeb44f8b67"
      },
      "execution_count": 5,
      "outputs": [
        {
          "output_type": "execute_result",
          "data": {
            "text/plain": [
              "   Pregnancies  Glucose  BloodPressure  SkinThickness     Insulin   BMI  \\\n",
              "0            6    148.0           72.0      35.000000   79.799479  33.6   \n",
              "1            1     85.0           66.0      29.000000   79.799479  26.6   \n",
              "2            8    183.0           64.0      20.536458   79.799479  23.3   \n",
              "3            1     89.0           66.0      23.000000   94.000000  28.1   \n",
              "4            0    137.0           40.0      35.000000  168.000000  43.1   \n",
              "\n",
              "   DiabetesPedigreeFunction  Age  Outcome  \n",
              "0                     0.627   50        1  \n",
              "1                     0.351   31        0  \n",
              "2                     0.672   32        1  \n",
              "3                     0.167   21        0  \n",
              "4                     2.288   33        1  "
            ],
            "text/html": [
              "\n",
              "  <div id=\"df-cf84dc0e-c707-4ba7-a51b-7a39c283d3b8\">\n",
              "    <div class=\"colab-df-container\">\n",
              "      <div>\n",
              "<style scoped>\n",
              "    .dataframe tbody tr th:only-of-type {\n",
              "        vertical-align: middle;\n",
              "    }\n",
              "\n",
              "    .dataframe tbody tr th {\n",
              "        vertical-align: top;\n",
              "    }\n",
              "\n",
              "    .dataframe thead th {\n",
              "        text-align: right;\n",
              "    }\n",
              "</style>\n",
              "<table border=\"1\" class=\"dataframe\">\n",
              "  <thead>\n",
              "    <tr style=\"text-align: right;\">\n",
              "      <th></th>\n",
              "      <th>Pregnancies</th>\n",
              "      <th>Glucose</th>\n",
              "      <th>BloodPressure</th>\n",
              "      <th>SkinThickness</th>\n",
              "      <th>Insulin</th>\n",
              "      <th>BMI</th>\n",
              "      <th>DiabetesPedigreeFunction</th>\n",
              "      <th>Age</th>\n",
              "      <th>Outcome</th>\n",
              "    </tr>\n",
              "  </thead>\n",
              "  <tbody>\n",
              "    <tr>\n",
              "      <th>0</th>\n",
              "      <td>6</td>\n",
              "      <td>148.0</td>\n",
              "      <td>72.0</td>\n",
              "      <td>35.000000</td>\n",
              "      <td>79.799479</td>\n",
              "      <td>33.6</td>\n",
              "      <td>0.627</td>\n",
              "      <td>50</td>\n",
              "      <td>1</td>\n",
              "    </tr>\n",
              "    <tr>\n",
              "      <th>1</th>\n",
              "      <td>1</td>\n",
              "      <td>85.0</td>\n",
              "      <td>66.0</td>\n",
              "      <td>29.000000</td>\n",
              "      <td>79.799479</td>\n",
              "      <td>26.6</td>\n",
              "      <td>0.351</td>\n",
              "      <td>31</td>\n",
              "      <td>0</td>\n",
              "    </tr>\n",
              "    <tr>\n",
              "      <th>2</th>\n",
              "      <td>8</td>\n",
              "      <td>183.0</td>\n",
              "      <td>64.0</td>\n",
              "      <td>20.536458</td>\n",
              "      <td>79.799479</td>\n",
              "      <td>23.3</td>\n",
              "      <td>0.672</td>\n",
              "      <td>32</td>\n",
              "      <td>1</td>\n",
              "    </tr>\n",
              "    <tr>\n",
              "      <th>3</th>\n",
              "      <td>1</td>\n",
              "      <td>89.0</td>\n",
              "      <td>66.0</td>\n",
              "      <td>23.000000</td>\n",
              "      <td>94.000000</td>\n",
              "      <td>28.1</td>\n",
              "      <td>0.167</td>\n",
              "      <td>21</td>\n",
              "      <td>0</td>\n",
              "    </tr>\n",
              "    <tr>\n",
              "      <th>4</th>\n",
              "      <td>0</td>\n",
              "      <td>137.0</td>\n",
              "      <td>40.0</td>\n",
              "      <td>35.000000</td>\n",
              "      <td>168.000000</td>\n",
              "      <td>43.1</td>\n",
              "      <td>2.288</td>\n",
              "      <td>33</td>\n",
              "      <td>1</td>\n",
              "    </tr>\n",
              "  </tbody>\n",
              "</table>\n",
              "</div>\n",
              "      <button class=\"colab-df-convert\" onclick=\"convertToInteractive('df-cf84dc0e-c707-4ba7-a51b-7a39c283d3b8')\"\n",
              "              title=\"Convert this dataframe to an interactive table.\"\n",
              "              style=\"display:none;\">\n",
              "        \n",
              "  <svg xmlns=\"http://www.w3.org/2000/svg\" height=\"24px\"viewBox=\"0 0 24 24\"\n",
              "       width=\"24px\">\n",
              "    <path d=\"M0 0h24v24H0V0z\" fill=\"none\"/>\n",
              "    <path d=\"M18.56 5.44l.94 2.06.94-2.06 2.06-.94-2.06-.94-.94-2.06-.94 2.06-2.06.94zm-11 1L8.5 8.5l.94-2.06 2.06-.94-2.06-.94L8.5 2.5l-.94 2.06-2.06.94zm10 10l.94 2.06.94-2.06 2.06-.94-2.06-.94-.94-2.06-.94 2.06-2.06.94z\"/><path d=\"M17.41 7.96l-1.37-1.37c-.4-.4-.92-.59-1.43-.59-.52 0-1.04.2-1.43.59L10.3 9.45l-7.72 7.72c-.78.78-.78 2.05 0 2.83L4 21.41c.39.39.9.59 1.41.59.51 0 1.02-.2 1.41-.59l7.78-7.78 2.81-2.81c.8-.78.8-2.07 0-2.86zM5.41 20L4 18.59l7.72-7.72 1.47 1.35L5.41 20z\"/>\n",
              "  </svg>\n",
              "      </button>\n",
              "      \n",
              "  <style>\n",
              "    .colab-df-container {\n",
              "      display:flex;\n",
              "      flex-wrap:wrap;\n",
              "      gap: 12px;\n",
              "    }\n",
              "\n",
              "    .colab-df-convert {\n",
              "      background-color: #E8F0FE;\n",
              "      border: none;\n",
              "      border-radius: 50%;\n",
              "      cursor: pointer;\n",
              "      display: none;\n",
              "      fill: #1967D2;\n",
              "      height: 32px;\n",
              "      padding: 0 0 0 0;\n",
              "      width: 32px;\n",
              "    }\n",
              "\n",
              "    .colab-df-convert:hover {\n",
              "      background-color: #E2EBFA;\n",
              "      box-shadow: 0px 1px 2px rgba(60, 64, 67, 0.3), 0px 1px 3px 1px rgba(60, 64, 67, 0.15);\n",
              "      fill: #174EA6;\n",
              "    }\n",
              "\n",
              "    [theme=dark] .colab-df-convert {\n",
              "      background-color: #3B4455;\n",
              "      fill: #D2E3FC;\n",
              "    }\n",
              "\n",
              "    [theme=dark] .colab-df-convert:hover {\n",
              "      background-color: #434B5C;\n",
              "      box-shadow: 0px 1px 3px 1px rgba(0, 0, 0, 0.15);\n",
              "      filter: drop-shadow(0px 1px 2px rgba(0, 0, 0, 0.3));\n",
              "      fill: #FFFFFF;\n",
              "    }\n",
              "  </style>\n",
              "\n",
              "      <script>\n",
              "        const buttonEl =\n",
              "          document.querySelector('#df-cf84dc0e-c707-4ba7-a51b-7a39c283d3b8 button.colab-df-convert');\n",
              "        buttonEl.style.display =\n",
              "          google.colab.kernel.accessAllowed ? 'block' : 'none';\n",
              "\n",
              "        async function convertToInteractive(key) {\n",
              "          const element = document.querySelector('#df-cf84dc0e-c707-4ba7-a51b-7a39c283d3b8');\n",
              "          const dataTable =\n",
              "            await google.colab.kernel.invokeFunction('convertToInteractive',\n",
              "                                                     [key], {});\n",
              "          if (!dataTable) return;\n",
              "\n",
              "          const docLinkHtml = 'Like what you see? Visit the ' +\n",
              "            '<a target=\"_blank\" href=https://colab.research.google.com/notebooks/data_table.ipynb>data table notebook</a>'\n",
              "            + ' to learn more about interactive tables.';\n",
              "          element.innerHTML = '';\n",
              "          dataTable['output_type'] = 'display_data';\n",
              "          await google.colab.output.renderOutput(dataTable, element);\n",
              "          const docLink = document.createElement('div');\n",
              "          docLink.innerHTML = docLinkHtml;\n",
              "          element.appendChild(docLink);\n",
              "        }\n",
              "      </script>\n",
              "    </div>\n",
              "  </div>\n",
              "  "
            ]
          },
          "metadata": {},
          "execution_count": 5
        }
      ]
    },
    {
      "cell_type": "code",
      "source": [
        "db_set.describe()"
      ],
      "metadata": {
        "colab": {
          "base_uri": "https://localhost:8080/",
          "height": 300
        },
        "id": "pR7JJoRJqtW1",
        "outputId": "fc76445c-4b76-442a-d354-9faddcdecdd5"
      },
      "execution_count": 6,
      "outputs": [
        {
          "output_type": "execute_result",
          "data": {
            "text/plain": [
              "       Pregnancies     Glucose  BloodPressure  SkinThickness     Insulin  \\\n",
              "count   728.000000  728.000000     728.000000     728.000000  728.000000   \n",
              "mean      3.605769  121.473177      71.930605      26.004786  118.200843   \n",
              "std       2.997903   30.428758      11.904710       8.667731   91.949696   \n",
              "min       0.000000   44.000000      24.000000       7.000000   15.000000   \n",
              "25%       1.000000   99.000000      64.000000      20.536458   79.799479   \n",
              "50%       3.000000  117.000000      72.000000      22.000000   79.799479   \n",
              "75%       6.000000  140.000000      80.000000      32.000000  126.250000   \n",
              "max      11.000000  199.000000     122.000000      49.000000  846.000000   \n",
              "\n",
              "              BMI  DiabetesPedigreeFunction         Age     Outcome  \n",
              "count  728.000000                728.000000  728.000000  728.000000  \n",
              "mean    32.029696                  0.468764   32.962912    0.339286  \n",
              "std      6.389506                  0.326924   11.716857    0.473792  \n",
              "min     18.200000                  0.078000   21.000000    0.000000  \n",
              "25%     27.400000                  0.240000   24.000000    0.000000  \n",
              "50%     31.992578                  0.367000   29.000000    0.000000  \n",
              "75%     35.925000                  0.624500   40.000000    1.000000  \n",
              "max     50.000000                  2.329000   81.000000    1.000000  "
            ],
            "text/html": [
              "\n",
              "  <div id=\"df-8fc6ea69-9e99-4148-a4ef-8f990bad2463\">\n",
              "    <div class=\"colab-df-container\">\n",
              "      <div>\n",
              "<style scoped>\n",
              "    .dataframe tbody tr th:only-of-type {\n",
              "        vertical-align: middle;\n",
              "    }\n",
              "\n",
              "    .dataframe tbody tr th {\n",
              "        vertical-align: top;\n",
              "    }\n",
              "\n",
              "    .dataframe thead th {\n",
              "        text-align: right;\n",
              "    }\n",
              "</style>\n",
              "<table border=\"1\" class=\"dataframe\">\n",
              "  <thead>\n",
              "    <tr style=\"text-align: right;\">\n",
              "      <th></th>\n",
              "      <th>Pregnancies</th>\n",
              "      <th>Glucose</th>\n",
              "      <th>BloodPressure</th>\n",
              "      <th>SkinThickness</th>\n",
              "      <th>Insulin</th>\n",
              "      <th>BMI</th>\n",
              "      <th>DiabetesPedigreeFunction</th>\n",
              "      <th>Age</th>\n",
              "      <th>Outcome</th>\n",
              "    </tr>\n",
              "  </thead>\n",
              "  <tbody>\n",
              "    <tr>\n",
              "      <th>count</th>\n",
              "      <td>728.000000</td>\n",
              "      <td>728.000000</td>\n",
              "      <td>728.000000</td>\n",
              "      <td>728.000000</td>\n",
              "      <td>728.000000</td>\n",
              "      <td>728.000000</td>\n",
              "      <td>728.000000</td>\n",
              "      <td>728.000000</td>\n",
              "      <td>728.000000</td>\n",
              "    </tr>\n",
              "    <tr>\n",
              "      <th>mean</th>\n",
              "      <td>3.605769</td>\n",
              "      <td>121.473177</td>\n",
              "      <td>71.930605</td>\n",
              "      <td>26.004786</td>\n",
              "      <td>118.200843</td>\n",
              "      <td>32.029696</td>\n",
              "      <td>0.468764</td>\n",
              "      <td>32.962912</td>\n",
              "      <td>0.339286</td>\n",
              "    </tr>\n",
              "    <tr>\n",
              "      <th>std</th>\n",
              "      <td>2.997903</td>\n",
              "      <td>30.428758</td>\n",
              "      <td>11.904710</td>\n",
              "      <td>8.667731</td>\n",
              "      <td>91.949696</td>\n",
              "      <td>6.389506</td>\n",
              "      <td>0.326924</td>\n",
              "      <td>11.716857</td>\n",
              "      <td>0.473792</td>\n",
              "    </tr>\n",
              "    <tr>\n",
              "      <th>min</th>\n",
              "      <td>0.000000</td>\n",
              "      <td>44.000000</td>\n",
              "      <td>24.000000</td>\n",
              "      <td>7.000000</td>\n",
              "      <td>15.000000</td>\n",
              "      <td>18.200000</td>\n",
              "      <td>0.078000</td>\n",
              "      <td>21.000000</td>\n",
              "      <td>0.000000</td>\n",
              "    </tr>\n",
              "    <tr>\n",
              "      <th>25%</th>\n",
              "      <td>1.000000</td>\n",
              "      <td>99.000000</td>\n",
              "      <td>64.000000</td>\n",
              "      <td>20.536458</td>\n",
              "      <td>79.799479</td>\n",
              "      <td>27.400000</td>\n",
              "      <td>0.240000</td>\n",
              "      <td>24.000000</td>\n",
              "      <td>0.000000</td>\n",
              "    </tr>\n",
              "    <tr>\n",
              "      <th>50%</th>\n",
              "      <td>3.000000</td>\n",
              "      <td>117.000000</td>\n",
              "      <td>72.000000</td>\n",
              "      <td>22.000000</td>\n",
              "      <td>79.799479</td>\n",
              "      <td>31.992578</td>\n",
              "      <td>0.367000</td>\n",
              "      <td>29.000000</td>\n",
              "      <td>0.000000</td>\n",
              "    </tr>\n",
              "    <tr>\n",
              "      <th>75%</th>\n",
              "      <td>6.000000</td>\n",
              "      <td>140.000000</td>\n",
              "      <td>80.000000</td>\n",
              "      <td>32.000000</td>\n",
              "      <td>126.250000</td>\n",
              "      <td>35.925000</td>\n",
              "      <td>0.624500</td>\n",
              "      <td>40.000000</td>\n",
              "      <td>1.000000</td>\n",
              "    </tr>\n",
              "    <tr>\n",
              "      <th>max</th>\n",
              "      <td>11.000000</td>\n",
              "      <td>199.000000</td>\n",
              "      <td>122.000000</td>\n",
              "      <td>49.000000</td>\n",
              "      <td>846.000000</td>\n",
              "      <td>50.000000</td>\n",
              "      <td>2.329000</td>\n",
              "      <td>81.000000</td>\n",
              "      <td>1.000000</td>\n",
              "    </tr>\n",
              "  </tbody>\n",
              "</table>\n",
              "</div>\n",
              "      <button class=\"colab-df-convert\" onclick=\"convertToInteractive('df-8fc6ea69-9e99-4148-a4ef-8f990bad2463')\"\n",
              "              title=\"Convert this dataframe to an interactive table.\"\n",
              "              style=\"display:none;\">\n",
              "        \n",
              "  <svg xmlns=\"http://www.w3.org/2000/svg\" height=\"24px\"viewBox=\"0 0 24 24\"\n",
              "       width=\"24px\">\n",
              "    <path d=\"M0 0h24v24H0V0z\" fill=\"none\"/>\n",
              "    <path d=\"M18.56 5.44l.94 2.06.94-2.06 2.06-.94-2.06-.94-.94-2.06-.94 2.06-2.06.94zm-11 1L8.5 8.5l.94-2.06 2.06-.94-2.06-.94L8.5 2.5l-.94 2.06-2.06.94zm10 10l.94 2.06.94-2.06 2.06-.94-2.06-.94-.94-2.06-.94 2.06-2.06.94z\"/><path d=\"M17.41 7.96l-1.37-1.37c-.4-.4-.92-.59-1.43-.59-.52 0-1.04.2-1.43.59L10.3 9.45l-7.72 7.72c-.78.78-.78 2.05 0 2.83L4 21.41c.39.39.9.59 1.41.59.51 0 1.02-.2 1.41-.59l7.78-7.78 2.81-2.81c.8-.78.8-2.07 0-2.86zM5.41 20L4 18.59l7.72-7.72 1.47 1.35L5.41 20z\"/>\n",
              "  </svg>\n",
              "      </button>\n",
              "      \n",
              "  <style>\n",
              "    .colab-df-container {\n",
              "      display:flex;\n",
              "      flex-wrap:wrap;\n",
              "      gap: 12px;\n",
              "    }\n",
              "\n",
              "    .colab-df-convert {\n",
              "      background-color: #E8F0FE;\n",
              "      border: none;\n",
              "      border-radius: 50%;\n",
              "      cursor: pointer;\n",
              "      display: none;\n",
              "      fill: #1967D2;\n",
              "      height: 32px;\n",
              "      padding: 0 0 0 0;\n",
              "      width: 32px;\n",
              "    }\n",
              "\n",
              "    .colab-df-convert:hover {\n",
              "      background-color: #E2EBFA;\n",
              "      box-shadow: 0px 1px 2px rgba(60, 64, 67, 0.3), 0px 1px 3px 1px rgba(60, 64, 67, 0.15);\n",
              "      fill: #174EA6;\n",
              "    }\n",
              "\n",
              "    [theme=dark] .colab-df-convert {\n",
              "      background-color: #3B4455;\n",
              "      fill: #D2E3FC;\n",
              "    }\n",
              "\n",
              "    [theme=dark] .colab-df-convert:hover {\n",
              "      background-color: #434B5C;\n",
              "      box-shadow: 0px 1px 3px 1px rgba(0, 0, 0, 0.15);\n",
              "      filter: drop-shadow(0px 1px 2px rgba(0, 0, 0, 0.3));\n",
              "      fill: #FFFFFF;\n",
              "    }\n",
              "  </style>\n",
              "\n",
              "      <script>\n",
              "        const buttonEl =\n",
              "          document.querySelector('#df-8fc6ea69-9e99-4148-a4ef-8f990bad2463 button.colab-df-convert');\n",
              "        buttonEl.style.display =\n",
              "          google.colab.kernel.accessAllowed ? 'block' : 'none';\n",
              "\n",
              "        async function convertToInteractive(key) {\n",
              "          const element = document.querySelector('#df-8fc6ea69-9e99-4148-a4ef-8f990bad2463');\n",
              "          const dataTable =\n",
              "            await google.colab.kernel.invokeFunction('convertToInteractive',\n",
              "                                                     [key], {});\n",
              "          if (!dataTable) return;\n",
              "\n",
              "          const docLinkHtml = 'Like what you see? Visit the ' +\n",
              "            '<a target=\"_blank\" href=https://colab.research.google.com/notebooks/data_table.ipynb>data table notebook</a>'\n",
              "            + ' to learn more about interactive tables.';\n",
              "          element.innerHTML = '';\n",
              "          dataTable['output_type'] = 'display_data';\n",
              "          await google.colab.output.renderOutput(dataTable, element);\n",
              "          const docLink = document.createElement('div');\n",
              "          docLink.innerHTML = docLinkHtml;\n",
              "          element.appendChild(docLink);\n",
              "        }\n",
              "      </script>\n",
              "    </div>\n",
              "  </div>\n",
              "  "
            ]
          },
          "metadata": {},
          "execution_count": 6
        }
      ]
    },
    {
      "cell_type": "code",
      "source": [
        "plt.hist(db_set['Age'], color = '#AED6F1', edgecolor = 'black',\n",
        "         bins = int(180/5))\n",
        "\n",
        "plt.title('Sample Distribution')\n",
        "plt.xlabel('Age')\n",
        "plt.ylabel('# of Samples')"
      ],
      "metadata": {
        "colab": {
          "base_uri": "https://localhost:8080/",
          "height": 313
        },
        "id": "GKMsivcAqyKP",
        "outputId": "df325587-3e57-4005-d42e-e82e437b83e3"
      },
      "execution_count": 7,
      "outputs": [
        {
          "output_type": "execute_result",
          "data": {
            "text/plain": [
              "Text(0, 0.5, '# of Samples')"
            ]
          },
          "metadata": {},
          "execution_count": 7
        },
        {
          "output_type": "display_data",
          "data": {
            "text/plain": [
              "<Figure size 432x288 with 1 Axes>"
            ],
            "image/png": "[encoded data removed]"
          },
          "metadata": {
            "needs_background": "light"
          }
        }
      ]
    },
    {
      "cell_type": "code",
      "source": [
        "db_set['Outcome'].value_counts().plot.bar()"
      ],
      "metadata": {
        "colab": {
          "base_uri": "https://localhost:8080/",
          "height": 282
        },
        "id": "GL0BMp66qz1t",
        "outputId": "6084a4f3-fe82-4915-f6c5-c8849e33b1a7"
      },
      "execution_count": 8,
      "outputs": [
        {
          "output_type": "execute_result",
          "data": {
            "text/plain": [
              "<matplotlib.axes._subplots.AxesSubplot at 0x7efee4c13400>"
            ]
          },
          "metadata": {},
          "execution_count": 8
        },
        {
          "output_type": "display_data",
          "data": {
            "text/plain": [
              "<Figure size 432x288 with 1 Axes>"
            ],
            "image/png": "[encoded data removed]"
          },
          "metadata": {
            "needs_background": "light"
          }
        }
      ]
    },
    {
      "cell_type": "code",
      "source": [
        "\n",
        "plt.figure(figsize = (4,4))\n",
        "graph_target = sns.countplot(x=\"Outcome\", data=db_set, palette=['#AED6F1','#FF6363'])\n",
        "\n",
        "i=0\n",
        "for p in graph_target.patches:\n",
        "    height = p.get_height()\n",
        "    \n",
        "    percentage = round(100 * db_set[\"Outcome\"].value_counts()[i] / len(db_set),2)\n",
        "    \n",
        "    str_plot = f'{percentage} %'\n",
        "    \n",
        "    graph_target.text(p.get_x()+p.get_width()/2., height - 100, str_plot, ha=\"center\")\n",
        "    i += 1\n",
        "\n",
        "plt.xticks([0,1],['NEGATIVE', 'POSITIVE'])\n",
        "plt.xlabel('Diabetes Result', fontsize=12)\n",
        "plt.ylabel('Number of Samples')\n",
        "\n",
        "plt.title('Class Distribution')\n",
        "plt.show()"
      ],
      "metadata": {
        "colab": {
          "base_uri": "https://localhost:8080/",
          "height": 298
        },
        "id": "XXxr7Iv-q5IN",
        "outputId": "ed8e07a1-c223-47ae-913c-4ad2769cee60"
      },
      "execution_count": 9,
      "outputs": [
        {
          "output_type": "display_data",
          "data": {
            "text/plain": [
              "<Figure size 288x288 with 1 Axes>"
            ],
            "image/png": "[encoded data removed]"
          },
          "metadata": {
            "needs_background": "light"
          }
        }
      ]
    },
    {
      "cell_type": "code",
      "source": [
        "# Split into training and test data. Use random_state to get the same results in every run\n",
        "X_train, X_test, y_train, y_test = train_test_split(X, y, test_size=0.3, random_state=3)\n",
        "print('Training set shape: ', np.shape(X_train))\n",
        "print(f'- Positive:\\t {len(y_train[y_train==1])}')\n",
        "print(f'- Negative: {len(y_train[y_train==0])}')\n",
        "print('Test set shape: ', np.shape(X_test))\n",
        "print(f'- Positive:\\t {len(y_test[y_test==1])}')\n",
        "print(f'- Negative: {len(y_test[y_test==0])}')\n",
        "# Data structures for storing best accuracies, training time and test time\n",
        "num_classifiers = 5\n",
        "best_accuracy = np.zeros(num_classifiers)\n",
        "train_time = np.zeros(num_classifiers)\n",
        "test_time = np.zeros(num_classifiers)"
      ],
      "metadata": {
        "colab": {
          "base_uri": "https://localhost:8080/"
        },
        "id": "vzCKmnsmrAzG",
        "outputId": "00bc6531-e33d-4117-8f5f-a40575c6c0d8"
      },
      "execution_count": 10,
      "outputs": [
        {
          "output_type": "stream",
          "name": "stdout",
          "text": [
            "Training set shape:  (537, 8)\n",
            "- Positive:\t 170\n",
            "- Negative: 367\n",
            "Test set shape:  (231, 8)\n",
            "- Positive:\t 98\n",
            "- Negative: 133\n"
          ]
        }
      ]
    },
    {
      "cell_type": "code",
      "source": [
        "min_train = X_train.min()\n",
        "range_train = (X_train - min_train).max()\n",
        "X_train_scaled = (X_train - min_train)/range_train"
      ],
      "metadata": {
        "id": "u_DGO2NrdRJP"
      },
      "execution_count": 11,
      "outputs": []
    },
    {
      "cell_type": "code",
      "source": [
        "min_test = X_test.min()\n",
        "range_test = (X_test - min_test).max()\n",
        "X_test_scaled = (X_test - min_test)/range_test"
      ],
      "metadata": {
        "id": "SU-wbWRvdTK7"
      },
      "execution_count": 12,
      "outputs": []
    },
    {
      "cell_type": "markdown",
      "source": [
        "#Evaluate All models without hyper paramter "
      ],
      "metadata": {
        "id": "YdOYaMeyD4Qm"
      }
    },
    {
      "cell_type": "code",
      "source": [
        "models = []\n",
        "models.append(('Decision trees', DecisionTreeClassifier()))\n",
        "models.append(('Neural networks', MLPClassifier()))\n",
        "models.append(('AdaBoost', AdaBoostClassifier()))\n",
        "models.append(('SVM', SVC()))\n",
        "models.append(('KNN', KNeighborsClassifier()))"
      ],
      "metadata": {
        "id": "cMpoyOIdD9he"
      },
      "execution_count": 13,
      "outputs": []
    },
    {
      "cell_type": "code",
      "source": [
        "from sklearn.metrics import  accuracy_score, f1_score, precision_score, recall_score, roc_auc_score\n",
        "names = []\n",
        "Accuracy = []\n",
        "Precision = []\n",
        "Recall = []\n",
        "F1_Score = []\n",
        "ROC = []\n",
        "for name, model in models:\n",
        "    model.fit(X_train_scaled, y_train)\n",
        "    y_all_pred = model.predict(X_test_scaled)\n",
        "    ROC=roc_auc_score(y_test, y_all_pred)\n",
        "    Accuracy.append(accuracy_score(y_test, y_all_pred))\n",
        "    Precision.append(precision_score(y_test, y_all_pred))\n",
        "    Recall.append(recall_score(y_test, y_all_pred))\n",
        "    F1_Score.append(f1_score(y_test, y_all_pred))\n",
        "    names.append(name)\n",
        "\n",
        "\n",
        "tr_split = pd.DataFrame({'Name': names, 'Score': Accuracy,'Precision':Precision,'Recall':Recall,'F1Score':F1_Score,'ROC':ROC})\n",
        "print(tr_split)"
      ],
      "metadata": {
        "colab": {
          "base_uri": "https://localhost:8080/"
        },
        "id": "7Kb8-UxKD_fk",
        "outputId": "3391d623-8bb2-4e97-89b8-4db9a7536df1"
      },
      "execution_count": 14,
      "outputs": [
        {
          "output_type": "stream",
          "name": "stdout",
          "text": [
            "              Name     Score  Precision    Recall   F1Score       ROC\n",
            "0   Decision trees  0.571429   0.496000  0.632653  0.556054  0.717508\n",
            "1  Neural networks  0.740260   0.669643  0.765306  0.714286  0.717508\n",
            "2         AdaBoost  0.670996   0.588710  0.744898  0.657658  0.717508\n",
            "3              SVM  0.735931   0.650407  0.816327  0.723982  0.717508\n",
            "4              KNN  0.705628   0.619048  0.795918  0.696429  0.717508\n"
          ]
        }
      ]
    },
    {
      "cell_type": "markdown",
      "source": [
        "#Decision Tree "
      ],
      "metadata": {
        "id": "UdLwdvOPDzNv"
      }
    },
    {
      "cell_type": "code",
      "source": [
        "clf_dt = tree.DecisionTreeClassifier(random_state=7)\n",
        "clf_dt.fit(X_train, y_train)\n",
        "y_pred = clf_dt.predict(X_test)\n",
        "dt_accuracy = accuracy_score(y_test, y_pred)\n",
        "print('Accuracy of decision tree without hyperparameter tuning is %.2f%%' % (dt_accuracy*100))"
      ],
      "metadata": {
        "colab": {
          "base_uri": "https://localhost:8080/"
        },
        "id": "o5dkZRH7kmJf",
        "outputId": "aa7226ec-e119-4c8c-c02f-575f1bb36ea7"
      },
      "execution_count": 15,
      "outputs": [
        {
          "output_type": "stream",
          "name": "stdout",
          "text": [
            "Accuracy of decision tree without hyperparameter tuning is 64.50%\n"
          ]
        }
      ]
    },
    {
      "cell_type": "markdown",
      "source": [
        "## Validation curve\n",
        "Validation curve is sometimes helpful to plot the influence of a single hyperparameter on the training score and the validation score to find out whether the estimator is overfitting or underfitting for some hyperparameter values.\n",
        "\n",
        "###Analysis\n",
        "For low values of max_depth the tree is extra pruned hence underfitting as both training and xross-validation scores are low. The training score increases as max depth increases. The cross validation score first increases but starts decreasing untill certain point and remains constant  thus the tree overfits with higher values of max_depth"
      ],
      "metadata": {
        "id": "TCO_6LTAD_c4"
      }
    },
    {
      "cell_type": "code",
      "source": [
        "depth_range = np.arange(20) + 1\n",
        "dtc = tree.DecisionTreeClassifier(random_state=7)\n",
        "train_scores, test_scores = validation_curve(dtc, X_train, y_train, param_name=\"max_depth\", param_range=depth_range, cv=5)\n",
        "\n",
        "plt.figure()\n",
        "plt.xticks(depth_range)\n",
        "plt.plot(depth_range, np.mean(train_scores, axis=1), label='Training score')\n",
        "plt.plot(depth_range, np.mean(test_scores, axis=1), label='Cross-validation score')\n",
        "plt.title('Validation curve for decision tree')\n",
        "plt.xlabel('max_depth')\n",
        "plt.ylabel(\"Classification score\")\n",
        "plt.legend(loc=\"best\")\n",
        "plt.grid()\n",
        "#plt.savefig(fig_path + 'dt_validation_curve_1.png')\n",
        "plt.show()"
      ],
      "metadata": {
        "colab": {
          "base_uri": "https://localhost:8080/",
          "height": 296
        },
        "id": "RmOwAu0stG4o",
        "outputId": "78e252be-ed81-4cab-9d37-04039bd29c22"
      },
      "execution_count": 16,
      "outputs": [
        {
          "output_type": "display_data",
          "data": {
            "text/plain": [
              "<Figure size 432x288 with 1 Axes>"
            ],
            "image/png": "[encoded data removed]"
          },
          "metadata": {
            "needs_background": "light"
          }
        }
      ]
    },
    {
      "cell_type": "markdown",
      "source": [
        "#GridSearchCV for hyper parameter tuning\n",
        "GridSearchCV is a utility in scikit-learn's model selection module that is used to perform hyperparameter tuning on a given machine learning model. It exhaustively searches over a specified hyperparameter space to find the best combination of hyperparameters that optimizes a given evaluation metric.\n",
        "\n",
        "The main reason to use GridSearchCV is to find the best set of hyperparameters for a machine learning model, which can lead to improved model performance. By training a model with multiple hyperparameters and evaluating the performance using cross-validation, GridSearchCV can help to prevent overfitting and provide an estimate of the expected performance of the model on unseen data."
      ],
      "metadata": {
        "id": "Ajo027WdGNiR"
      }
    },
    {
      "cell_type": "code",
      "source": [
        "# Define the hyperparameter space to search\n",
        "param_grid = {'criterion': ['entropy'],\n",
        "              'max_depth': [None, 2, 3, 4, 5],\n",
        "              'min_samples_split': [2, 3, 4, 5],\n",
        "              'min_samples_leaf': [1, 2, 3, 4]}"
      ],
      "metadata": {
        "id": "QFYUI3cIjUWy"
      },
      "execution_count": 17,
      "outputs": []
    },
    {
      "cell_type": "code",
      "source": [
        "from xgboost.sklearn import train\n",
        "\n",
        "#dtc = DecisionTreeClassifier()\n",
        "\n",
        "# Create an instance of GridSearchCV\n",
        "dtc_grid_search = GridSearchCV(dtc, param_grid, cv=5, scoring='accuracy')\n",
        "\n",
        "# Fit the GridSearchCV model to the data\n",
        "t0 = time.time()\n",
        "dtc_grid_search.fit(X, y)\n",
        "t1 = time.time()\n",
        "train_time[0] = t1-t0\n",
        "print('Completed training in %f seconds' % train_time[0])\n",
        "t0 = time.time()\n",
        "dtc_y_pred = dtc_grid_search.predict(X_test)\n",
        "t1 = time.time()\n",
        "test_time[0] = t1 - t0\n",
        "print('Inference time on test data: %f seconds' % test_time[0])\n",
        "best_accuracy[0] = accuracy_score(y_test, dtc_y_pred)\n",
        "print('Accuracy of decision tree is %.2f%%' % (best_accuracy[0]* 100))\n",
        "# Get the best hyperparameters and the best score\n",
        "print(\"Best parameters:\", dtc_grid_search.best_params_)\n",
        "print(\"Best score:\", dtc_grid_search.best_score_)"
      ],
      "metadata": {
        "colab": {
          "base_uri": "https://localhost:8080/"
        },
        "id": "OX51KYZpjkMC",
        "outputId": "33173a7c-a7dd-4a92-f72d-9ff9581266da"
      },
      "execution_count": 18,
      "outputs": [
        {
          "output_type": "stream",
          "name": "stdout",
          "text": [
            "Completed training in 4.793259 seconds\n",
            "Inference time on test data: 0.001223 seconds\n",
            "Accuracy of decision tree is 72.73%\n",
            "Best parameters: {'criterion': 'entropy', 'max_depth': 3, 'min_samples_leaf': 1, 'min_samples_split': 2}\n",
            "Best score: 0.7383329089211441\n"
          ]
        }
      ]
    },
    {
      "cell_type": "code",
      "source": [
        "\n",
        "roc=roc_auc_score(y_test, dtc_y_pred)\n",
        "acc = accuracy_score(y_test, dtc_y_pred)\n",
        "prec = precision_score(y_test, dtc_y_pred)\n",
        "rec = recall_score(y_test, dtc_y_pred)\n",
        "f1 = f1_score(y_test, dtc_y_pred)\n",
        "results = pd.DataFrame([['Decision Tree Classifier', acc,prec,rec, f1,roc]],\n",
        "columns = ['Model', 'Accuracy', 'Precision', 'Recall', 'F1 Score','ROC'])\n",
        "results"
      ],
      "metadata": {
        "colab": {
          "base_uri": "https://localhost:8080/",
          "height": 81
        },
        "id": "uhKXfzh1JZvU",
        "outputId": "3a242c1b-4784-4423-8ce4-d7898104d4c2"
      },
      "execution_count": 19,
      "outputs": [
        {
          "output_type": "execute_result",
          "data": {
            "text/plain": [
              "                      Model  Accuracy  Precision    Recall  F1 Score       ROC\n",
              "0  Decision Tree Classifier  0.727273   0.705882  0.612245  0.655738  0.712137"
            ],
            "text/html": [
              "\n",
              "  <div id=\"df-4ccbc9f1-fab4-4ab5-ab9d-28e2f4f78f9d\">\n",
              "    <div class=\"colab-df-container\">\n",
              "      <div>\n",
              "<style scoped>\n",
              "    .dataframe tbody tr th:only-of-type {\n",
              "        vertical-align: middle;\n",
              "    }\n",
              "\n",
              "    .dataframe tbody tr th {\n",
              "        vertical-align: top;\n",
              "    }\n",
              "\n",
              "    .dataframe thead th {\n",
              "        text-align: right;\n",
              "    }\n",
              "</style>\n",
              "<table border=\"1\" class=\"dataframe\">\n",
              "  <thead>\n",
              "    <tr style=\"text-align: right;\">\n",
              "      <th></th>\n",
              "      <th>Model</th>\n",
              "      <th>Accuracy</th>\n",
              "      <th>Precision</th>\n",
              "      <th>Recall</th>\n",
              "      <th>F1 Score</th>\n",
              "      <th>ROC</th>\n",
              "    </tr>\n",
              "  </thead>\n",
              "  <tbody>\n",
              "    <tr>\n",
              "      <th>0</th>\n",
              "      <td>Decision Tree Classifier</td>\n",
              "      <td>0.727273</td>\n",
              "      <td>0.705882</td>\n",
              "      <td>0.612245</td>\n",
              "      <td>0.655738</td>\n",
              "      <td>0.712137</td>\n",
              "    </tr>\n",
              "  </tbody>\n",
              "</table>\n",
              "</div>\n",
              "      <button class=\"colab-df-convert\" onclick=\"convertToInteractive('df-4ccbc9f1-fab4-4ab5-ab9d-28e2f4f78f9d')\"\n",
              "              title=\"Convert this dataframe to an interactive table.\"\n",
              "              style=\"display:none;\">\n",
              "        \n",
              "  <svg xmlns=\"http://www.w3.org/2000/svg\" height=\"24px\"viewBox=\"0 0 24 24\"\n",
              "       width=\"24px\">\n",
              "    <path d=\"M0 0h24v24H0V0z\" fill=\"none\"/>\n",
              "    <path d=\"M18.56 5.44l.94 2.06.94-2.06 2.06-.94-2.06-.94-.94-2.06-.94 2.06-2.06.94zm-11 1L8.5 8.5l.94-2.06 2.06-.94-2.06-.94L8.5 2.5l-.94 2.06-2.06.94zm10 10l.94 2.06.94-2.06 2.06-.94-2.06-.94-.94-2.06-.94 2.06-2.06.94z\"/><path d=\"M17.41 7.96l-1.37-1.37c-.4-.4-.92-.59-1.43-.59-.52 0-1.04.2-1.43.59L10.3 9.45l-7.72 7.72c-.78.78-.78 2.05 0 2.83L4 21.41c.39.39.9.59 1.41.59.51 0 1.02-.2 1.41-.59l7.78-7.78 2.81-2.81c.8-.78.8-2.07 0-2.86zM5.41 20L4 18.59l7.72-7.72 1.47 1.35L5.41 20z\"/>\n",
              "  </svg>\n",
              "      </button>\n",
              "      \n",
              "  <style>\n",
              "    .colab-df-container {\n",
              "      display:flex;\n",
              "      flex-wrap:wrap;\n",
              "      gap: 12px;\n",
              "    }\n",
              "\n",
              "    .colab-df-convert {\n",
              "      background-color: #E8F0FE;\n",
              "      border: none;\n",
              "      border-radius: 50%;\n",
              "      cursor: pointer;\n",
              "      display: none;\n",
              "      fill: #1967D2;\n",
              "      height: 32px;\n",
              "      padding: 0 0 0 0;\n",
              "      width: 32px;\n",
              "    }\n",
              "\n",
              "    .colab-df-convert:hover {\n",
              "      background-color: #E2EBFA;\n",
              "      box-shadow: 0px 1px 2px rgba(60, 64, 67, 0.3), 0px 1px 3px 1px rgba(60, 64, 67, 0.15);\n",
              "      fill: #174EA6;\n",
              "    }\n",
              "\n",
              "    [theme=dark] .colab-df-convert {\n",
              "      background-color: #3B4455;\n",
              "      fill: #D2E3FC;\n",
              "    }\n",
              "\n",
              "    [theme=dark] .colab-df-convert:hover {\n",
              "      background-color: #434B5C;\n",
              "      box-shadow: 0px 1px 3px 1px rgba(0, 0, 0, 0.15);\n",
              "      filter: drop-shadow(0px 1px 2px rgba(0, 0, 0, 0.3));\n",
              "      fill: #FFFFFF;\n",
              "    }\n",
              "  </style>\n",
              "\n",
              "      <script>\n",
              "        const buttonEl =\n",
              "          document.querySelector('#df-4ccbc9f1-fab4-4ab5-ab9d-28e2f4f78f9d button.colab-df-convert');\n",
              "        buttonEl.style.display =\n",
              "          google.colab.kernel.accessAllowed ? 'block' : 'none';\n",
              "\n",
              "        async function convertToInteractive(key) {\n",
              "          const element = document.querySelector('#df-4ccbc9f1-fab4-4ab5-ab9d-28e2f4f78f9d');\n",
              "          const dataTable =\n",
              "            await google.colab.kernel.invokeFunction('convertToInteractive',\n",
              "                                                     [key], {});\n",
              "          if (!dataTable) return;\n",
              "\n",
              "          const docLinkHtml = 'Like what you see? Visit the ' +\n",
              "            '<a target=\"_blank\" href=https://colab.research.google.com/notebooks/data_table.ipynb>data table notebook</a>'\n",
              "            + ' to learn more about interactive tables.';\n",
              "          element.innerHTML = '';\n",
              "          dataTable['output_type'] = 'display_data';\n",
              "          await google.colab.output.renderOutput(dataTable, element);\n",
              "          const docLink = document.createElement('div');\n",
              "          docLink.innerHTML = docLinkHtml;\n",
              "          element.appendChild(docLink);\n",
              "        }\n",
              "      </script>\n",
              "    </div>\n",
              "  </div>\n",
              "  "
            ]
          },
          "metadata": {},
          "execution_count": 19
        }
      ]
    },
    {
      "cell_type": "markdown",
      "source": [
        "Lets evaluate the model with paramters suggested by Gridsearch"
      ],
      "metadata": {
        "id": "G946_opZGqyB"
      }
    },
    {
      "cell_type": "code",
      "source": [
        "dct_model = tree.DecisionTreeClassifier(max_depth =3,criterion='entropy',min_samples_leaf=1)\n",
        "dct_model.fit(X_train, y_train)\n",
        "dct1_y_pred = dct_model.predict(X_test)\n",
        "dt_accuracy= accuracy_score(y_test, dct1_y_pred)\n",
        "treeObj = dct_model.tree_\n",
        "print(treeObj.node_count)\n",
        "print(dct_model.tree_.max_depth)\n",
        "print('Accuracy of decision tree with hyperparameter tuning is %.2f%%' % (dt_accuracy*100))"
      ],
      "metadata": {
        "colab": {
          "base_uri": "https://localhost:8080/"
        },
        "id": "GG-Dz8agtbOb",
        "outputId": "b699a28e-d3dd-4262-c1d1-b02267c7f2be"
      },
      "execution_count": 20,
      "outputs": [
        {
          "output_type": "stream",
          "name": "stdout",
          "text": [
            "15\n",
            "3\n",
            "Accuracy of decision tree with hyperparameter tuning is 69.70%\n"
          ]
        }
      ]
    },
    {
      "cell_type": "code",
      "source": [],
      "metadata": {
        "id": "kJabhGUiuG-2"
      },
      "execution_count": 20,
      "outputs": []
    },
    {
      "cell_type": "markdown",
      "source": [
        "## Cross Validation \n",
        "Cross-validation is a technique for evaluating the performance of machine learning models\n",
        "Lets evaluate the model aacuracy using cross validation on unseen data"
      ],
      "metadata": {
        "id": "l55rRyEuHcQz"
      }
    },
    {
      "cell_type": "code",
      "source": [
        "\n",
        "scores = cross_val_score(dtc_grid_search,X, y, cv=5,scoring='accuracy')\n",
        "print(average(scores))\n",
        "\n"
      ],
      "metadata": {
        "colab": {
          "base_uri": "https://localhost:8080/"
        },
        "id": "wF-x7vfmzzZH",
        "outputId": "cba2404c-9478-4937-bb3a-0d3a78e47259"
      },
      "execution_count": 21,
      "outputs": [
        {
          "output_type": "stream",
          "name": "stdout",
          "text": [
            "0.7266191325014855\n"
          ]
        }
      ]
    },
    {
      "cell_type": "markdown",
      "source": [
        "#Evaluation using confusion matrix"
      ],
      "metadata": {
        "id": "0J9TCA-2hdxL"
      }
    },
    {
      "cell_type": "code",
      "source": [
        "\n",
        "confusion_matrix(y_test,dtc_y_pred)"
      ],
      "metadata": {
        "colab": {
          "base_uri": "https://localhost:8080/"
        },
        "id": "CUTNb69rhina",
        "outputId": "9a5c166a-1bd3-44df-bf16-0bfb5713a582"
      },
      "execution_count": 22,
      "outputs": [
        {
          "output_type": "execute_result",
          "data": {
            "text/plain": [
              "array([[108,  25],\n",
              "       [ 38,  60]])"
            ]
          },
          "metadata": {},
          "execution_count": 22
        }
      ]
    },
    {
      "cell_type": "markdown",
      "source": [
        "## Learning curve\n",
        "A learning curve is a plot that shows the relationship between the size of the training data and the performance of a machine learning model. It is a useful tool for understanding how well a model is able to learn from the data, and whether the model is suffering from overfitting or underfitting.\n",
        "###Analysis:\n",
        "For the Decision tree algorithm, both the validation score and the training score moves to a value that is  low with increasing size of the training set. Thus, we will probably not benefit much from more training data.\n",
        "\n",
        "In contrast, for small amounts of data, the training score of the Decision tree is much greater than the validation score. Adding more training samples will most likely increase generalization.\n"
      ],
      "metadata": {
        "id": "z_fgFMAj_sqa"
      }
    },
    {
      "cell_type": "code",
      "source": [
        "train_sizes = np.linspace(0.1, 1.0, 5)\n",
        "_, train_scores, test_scores = learning_curve(dtc_grid_search, X_train, y_train, train_sizes=train_sizes, cv=5, n_jobs=4)\n",
        "\n",
        "plt.figure()\n",
        "plt.plot(train_sizes, np.mean(train_scores, axis=1), 'o-', label='Training score')\n",
        "plt.plot(train_sizes, np.mean(test_scores, axis=1), 'o-', label='Cross-validation score')\n",
        "plt.title('Learning curve for decision tree')\n",
        "plt.xlabel('Fraction of training examples')\n",
        "plt.ylabel(\"Classification score\")\n",
        "plt.legend(loc=\"best\")\n",
        "plt.grid()\n",
        "\n",
        "plt.show()"
      ],
      "metadata": {
        "colab": {
          "base_uri": "https://localhost:8080/",
          "height": 295
        },
        "id": "hISDA8xQ9TFS",
        "outputId": "edae1626-b8a7-4967-e6b1-9e3964c64e3d"
      },
      "execution_count": 23,
      "outputs": [
        {
          "output_type": "display_data",
          "data": {
            "text/plain": [
              "<Figure size 432x288 with 1 Axes>"
            ],
            "image/png": "[encoded data removed]"
          },
          "metadata": {
            "needs_background": "light"
          }
        }
      ]
    },
    {
      "cell_type": "markdown",
      "source": [
        "# Neural Network"
      ],
      "metadata": {
        "id": "jIFgfDG0UT8Q"
      }
    },
    {
      "cell_type": "code",
      "source": [
        "NN_model = MLPClassifier()\n",
        "NN_model.fit(X_train, y_train)\n",
        "NN_y_pred = NN_model.predict(X_test)\n",
        "dt_accuracy = accuracy_score(y_test, NN_y_pred)\n",
        "print('Accuracy of Neural Network without hyperparameter tuning is %.2f%%' % (dt_accuracy*100))"
      ],
      "metadata": {
        "colab": {
          "base_uri": "https://localhost:8080/"
        },
        "id": "qQXN6lnZblmg",
        "outputId": "01c7116a-1b21-43e4-af2d-d06143c82501"
      },
      "execution_count": 24,
      "outputs": [
        {
          "output_type": "stream",
          "name": "stdout",
          "text": [
            "Accuracy of Neural Network without hyperparameter tuning is 75.32%\n"
          ]
        }
      ]
    },
    {
      "cell_type": "markdown",
      "source": [
        "#Validation curve"
      ],
      "metadata": {
        "id": "mJoRknhecTTi"
      }
    },
    {
      "cell_type": "code",
      "source": [
        "# Regularization parameter\n",
        "\n",
        "\n",
        "\n",
        "alpha_range = np.logspace(-3, 3, 7)\n",
        "train_scores, test_scores = validation_curve(NN_model, X_train_scaled, y_train, param_name=\"alpha\", param_range=alpha_range, cv=5)\n",
        "\n",
        "plt.figure()\n",
        "plt.semilogx(alpha_range, np.mean(train_scores, axis=1), label='Training score')\n",
        "plt.semilogx(alpha_range, np.mean(test_scores, axis=1), label='Cross-validation score')\n",
        "plt.title('Validation curve for neural network')\n",
        "plt.xlabel('alpha (regularization parameter)')\n",
        "plt.ylabel(\"Classification score\")\n",
        "plt.legend(loc=\"best\")\n",
        "plt.grid()\n",
        "\n",
        "plt.show()"
      ],
      "metadata": {
        "colab": {
          "base_uri": "https://localhost:8080/",
          "height": 299
        },
        "id": "rOZM1Gg5cVt3",
        "outputId": "3a9d0e03-372a-47b3-f070-d2742a7231fa"
      },
      "execution_count": 25,
      "outputs": [
        {
          "output_type": "display_data",
          "data": {
            "text/plain": [
              "<Figure size 432x288 with 1 Axes>"
            ],
            "image/png": "[encoded data removed]"
          },
          "metadata": {
            "needs_background": "light"
          }
        }
      ]
    },
    {
      "cell_type": "code",
      "source": [
        "# Learning rate\n",
        "lr_range = np.logspace(-5, 0, 6)\n",
        "train_scores, test_scores = validation_curve(NN_model, X_train_scaled, y_train, param_name=\"learning_rate_init\", param_range=lr_range, \n",
        "                                             cv=5)\n",
        "\n",
        "plt.figure()\n",
        "plt.semilogx(lr_range, np.mean(train_scores, axis=1), label='Training score')\n",
        "plt.semilogx(lr_range, np.mean(test_scores, axis=1), label='Cross-validation score')\n",
        "plt.title('Validation curve for neural network')\n",
        "plt.xlabel('Learning rate')\n",
        "plt.ylabel(\"Classification score\")\n",
        "plt.legend(loc=\"best\")\n",
        "plt.grid()\n",
        "\n",
        "plt.show()"
      ],
      "metadata": {
        "colab": {
          "base_uri": "https://localhost:8080/",
          "height": 299
        },
        "id": "upP5ymijc_qa",
        "outputId": "1be3236c-9565-4d10-8da4-d8d027f4af57"
      },
      "execution_count": 26,
      "outputs": [
        {
          "output_type": "display_data",
          "data": {
            "text/plain": [
              "<Figure size 432x288 with 1 Axes>"
            ],
            "image/png": "[encoded data removed]"
          },
          "metadata": {
            "needs_background": "light"
          }
        }
      ]
    },
    {
      "cell_type": "markdown",
      "source": [
        "## Hyperparameter tuning\n",
        "Based on the validation curves plotted above, we will define an appropriate grid for each parameter and tune them."
      ],
      "metadata": {
        "id": "rSJdhIUKeKfo"
      }
    },
    {
      "cell_type": "code",
      "source": [
        "# Define grid for grid search after observing validation curves\n",
        "alpha_range = np.logspace(-1, 2, 5)\n",
        "lr_range = np.logspace(-5, 0, 6)\n",
        "tuned_params = {'alpha' : alpha_range, 'learning_rate_init' : lr_range}\n",
        "NN_Grid_model = GridSearchCV(NN_model, param_grid=tuned_params, cv=5, n_jobs=4)\n",
        "t0 = time.time()\n",
        "NN_Grid_model.fit(X_train, y_train)\n",
        "t1 = time.time()\n",
        "train_time[1] = t1-t0\n",
        "print('Completed training in %f seconds' % train_time[1])\n",
        "\n",
        "t0 = time.time()\n",
        "nn_y_pred = NN_Grid_model.predict(X_test)\n",
        "t1 = time.time()\n",
        "test_time[1] = t1 - t0\n",
        "print('Inference time on test data: %f seconds' % test_time[1])\n",
        "best_accuracy[1] = accuracy_score(y_test, nn_y_pred)\n",
        "print('Accuracy of decision tree is %.2f%%' % (best_accuracy[1]* 100))\n",
        "\n",
        "best_params = NN_Grid_model.best_params_\n",
        "print(\"Best parameters set found on development set:\")\n",
        "print(best_params)"
      ],
      "metadata": {
        "colab": {
          "base_uri": "https://localhost:8080/"
        },
        "id": "vpkjEr9JeUSv",
        "outputId": "c04d7358-9941-4ced-ca01-0c49ce596e5f"
      },
      "execution_count": 27,
      "outputs": [
        {
          "output_type": "stream",
          "name": "stdout",
          "text": [
            "Completed training in 42.337459 seconds\n",
            "Inference time on test data: 0.001016 seconds\n",
            "Accuracy of decision tree is 75.32%\n",
            "Best parameters set found on development set:\n",
            "{'alpha': 3.1622776601683795, 'learning_rate_init': 0.01}\n"
          ]
        }
      ]
    },
    {
      "cell_type": "code",
      "source": [
        "roc=roc_auc_score(y_test, nn_y_pred)\n",
        "acc = accuracy_score(y_test, nn_y_pred)\n",
        "prec = precision_score(y_test, nn_y_pred)\n",
        "rec = recall_score(y_test, nn_y_pred)\n",
        "f1 = f1_score(y_test, nn_y_pred)\n",
        "results = pd.DataFrame([['NN Classifier', acc,prec,rec, f1,roc]],\n",
        "columns = ['Model', 'Accuracy', 'Precision', 'Recall', 'F1 Score','ROC'])\n",
        "results"
      ],
      "metadata": {
        "colab": {
          "base_uri": "https://localhost:8080/",
          "height": 81
        },
        "id": "bgyQU7YhFRUI",
        "outputId": "0b73b1f9-9e14-45f0-fe60-f957e35822b7"
      },
      "execution_count": 28,
      "outputs": [
        {
          "output_type": "execute_result",
          "data": {
            "text/plain": [
              "           Model  Accuracy  Precision    Recall  F1 Score       ROC\n",
              "0  NN Classifier  0.753247   0.788732  0.571429  0.662722  0.729323"
            ],
            "text/html": [
              "\n",
              "  <div id=\"df-4a4b3d86-b709-4028-8f18-209df56f8564\">\n",
              "    <div class=\"colab-df-container\">\n",
              "      <div>\n",
              "<style scoped>\n",
              "    .dataframe tbody tr th:only-of-type {\n",
              "        vertical-align: middle;\n",
              "    }\n",
              "\n",
              "    .dataframe tbody tr th {\n",
              "        vertical-align: top;\n",
              "    }\n",
              "\n",
              "    .dataframe thead th {\n",
              "        text-align: right;\n",
              "    }\n",
              "</style>\n",
              "<table border=\"1\" class=\"dataframe\">\n",
              "  <thead>\n",
              "    <tr style=\"text-align: right;\">\n",
              "      <th></th>\n",
              "      <th>Model</th>\n",
              "      <th>Accuracy</th>\n",
              "      <th>Precision</th>\n",
              "      <th>Recall</th>\n",
              "      <th>F1 Score</th>\n",
              "      <th>ROC</th>\n",
              "    </tr>\n",
              "  </thead>\n",
              "  <tbody>\n",
              "    <tr>\n",
              "      <th>0</th>\n",
              "      <td>NN Classifier</td>\n",
              "      <td>0.753247</td>\n",
              "      <td>0.788732</td>\n",
              "      <td>0.571429</td>\n",
              "      <td>0.662722</td>\n",
              "      <td>0.729323</td>\n",
              "    </tr>\n",
              "  </tbody>\n",
              "</table>\n",
              "</div>\n",
              "      <button class=\"colab-df-convert\" onclick=\"convertToInteractive('df-4a4b3d86-b709-4028-8f18-209df56f8564')\"\n",
              "              title=\"Convert this dataframe to an interactive table.\"\n",
              "              style=\"display:none;\">\n",
              "        \n",
              "  <svg xmlns=\"http://www.w3.org/2000/svg\" height=\"24px\"viewBox=\"0 0 24 24\"\n",
              "       width=\"24px\">\n",
              "    <path d=\"M0 0h24v24H0V0z\" fill=\"none\"/>\n",
              "    <path d=\"M18.56 5.44l.94 2.06.94-2.06 2.06-.94-2.06-.94-.94-2.06-.94 2.06-2.06.94zm-11 1L8.5 8.5l.94-2.06 2.06-.94-2.06-.94L8.5 2.5l-.94 2.06-2.06.94zm10 10l.94 2.06.94-2.06 2.06-.94-2.06-.94-.94-2.06-.94 2.06-2.06.94z\"/><path d=\"M17.41 7.96l-1.37-1.37c-.4-.4-.92-.59-1.43-.59-.52 0-1.04.2-1.43.59L10.3 9.45l-7.72 7.72c-.78.78-.78 2.05 0 2.83L4 21.41c.39.39.9.59 1.41.59.51 0 1.02-.2 1.41-.59l7.78-7.78 2.81-2.81c.8-.78.8-2.07 0-2.86zM5.41 20L4 18.59l7.72-7.72 1.47 1.35L5.41 20z\"/>\n",
              "  </svg>\n",
              "      </button>\n",
              "      \n",
              "  <style>\n",
              "    .colab-df-container {\n",
              "      display:flex;\n",
              "      flex-wrap:wrap;\n",
              "      gap: 12px;\n",
              "    }\n",
              "\n",
              "    .colab-df-convert {\n",
              "      background-color: #E8F0FE;\n",
              "      border: none;\n",
              "      border-radius: 50%;\n",
              "      cursor: pointer;\n",
              "      display: none;\n",
              "      fill: #1967D2;\n",
              "      height: 32px;\n",
              "      padding: 0 0 0 0;\n",
              "      width: 32px;\n",
              "    }\n",
              "\n",
              "    .colab-df-convert:hover {\n",
              "      background-color: #E2EBFA;\n",
              "      box-shadow: 0px 1px 2px rgba(60, 64, 67, 0.3), 0px 1px 3px 1px rgba(60, 64, 67, 0.15);\n",
              "      fill: #174EA6;\n",
              "    }\n",
              "\n",
              "    [theme=dark] .colab-df-convert {\n",
              "      background-color: #3B4455;\n",
              "      fill: #D2E3FC;\n",
              "    }\n",
              "\n",
              "    [theme=dark] .colab-df-convert:hover {\n",
              "      background-color: #434B5C;\n",
              "      box-shadow: 0px 1px 3px 1px rgba(0, 0, 0, 0.15);\n",
              "      filter: drop-shadow(0px 1px 2px rgba(0, 0, 0, 0.3));\n",
              "      fill: #FFFFFF;\n",
              "    }\n",
              "  </style>\n",
              "\n",
              "      <script>\n",
              "        const buttonEl =\n",
              "          document.querySelector('#df-4a4b3d86-b709-4028-8f18-209df56f8564 button.colab-df-convert');\n",
              "        buttonEl.style.display =\n",
              "          google.colab.kernel.accessAllowed ? 'block' : 'none';\n",
              "\n",
              "        async function convertToInteractive(key) {\n",
              "          const element = document.querySelector('#df-4a4b3d86-b709-4028-8f18-209df56f8564');\n",
              "          const dataTable =\n",
              "            await google.colab.kernel.invokeFunction('convertToInteractive',\n",
              "                                                     [key], {});\n",
              "          if (!dataTable) return;\n",
              "\n",
              "          const docLinkHtml = 'Like what you see? Visit the ' +\n",
              "            '<a target=\"_blank\" href=https://colab.research.google.com/notebooks/data_table.ipynb>data table notebook</a>'\n",
              "            + ' to learn more about interactive tables.';\n",
              "          element.innerHTML = '';\n",
              "          dataTable['output_type'] = 'display_data';\n",
              "          await google.colab.output.renderOutput(dataTable, element);\n",
              "          const docLink = document.createElement('div');\n",
              "          docLink.innerHTML = docLinkHtml;\n",
              "          element.appendChild(docLink);\n",
              "        }\n",
              "      </script>\n",
              "    </div>\n",
              "  </div>\n",
              "  "
            ]
          },
          "metadata": {},
          "execution_count": 28
        }
      ]
    },
    {
      "cell_type": "code",
      "source": [
        "NN_model = MLPClassifier(hidden_layer_sizes=(5, 2), random_state=7, max_iter=1000)\n",
        "NN_model.fit(X_train, y_train)\n",
        "NN_y_pred = NN_model.predict(X_test)\n",
        "NN_best_accuracy = accuracy_score(y_test, NN_y_pred)\n",
        "print('Accuracy of Neural networks with hyperparameter tuning is %.2f%%' % (NN_best_accuracy*100))"
      ],
      "metadata": {
        "colab": {
          "base_uri": "https://localhost:8080/"
        },
        "id": "cx3WpOrelFQ-",
        "outputId": "69eb2500-5d79-4bbc-8e70-0524855e8072"
      },
      "execution_count": 29,
      "outputs": [
        {
          "output_type": "stream",
          "name": "stdout",
          "text": [
            "Accuracy of Neural networks with hyperparameter tuning is 71.43%\n"
          ]
        }
      ]
    },
    {
      "cell_type": "markdown",
      "source": [
        "#Cross Validation"
      ],
      "metadata": {
        "id": "dZvdlkNLhTX0"
      }
    },
    {
      "cell_type": "code",
      "source": [
        "from sklearn.model_selection import cross_val_score\n",
        "scores = cross_val_score(NN_Grid_model,X, y, cv=5,scoring='accuracy')\n",
        "print(scores)"
      ],
      "metadata": {
        "colab": {
          "base_uri": "https://localhost:8080/"
        },
        "id": "eMHo0G4jhl5o",
        "outputId": "7a996fb0-762c-42ca-a6e7-21e1b392d607"
      },
      "execution_count": 30,
      "outputs": [
        {
          "output_type": "stream",
          "name": "stdout",
          "text": [
            "[0.75974026 0.75324675 0.76623377 0.79738562 0.75816993]\n"
          ]
        }
      ]
    },
    {
      "cell_type": "markdown",
      "source": [
        "## Learning curve"
      ],
      "metadata": {
        "id": "CDnbgBDde1uR"
      }
    },
    {
      "cell_type": "code",
      "source": [
        "train_sizes = np.linspace(0.1, 1.0, 5)\n",
        "_, train_scores, test_scores = learning_curve(NN_Grid_model, X_train_scaled, y_train, train_sizes=train_sizes, cv=5)\n",
        "\n",
        "plt.figure()\n",
        "plt.plot(train_sizes, np.mean(train_scores, axis=1), 'o-', label='Training score')\n",
        "plt.plot(train_sizes, np.mean(test_scores, axis=1), 'o-', label='Cross-validation score')\n",
        "plt.title('Learning curve for neural network')\n",
        "plt.xlabel('Fraction of training examples')\n",
        "plt.ylabel(\"Classification score\")\n",
        "plt.legend(loc=\"best\")\n",
        "plt.grid()\n",
        "\n",
        "plt.show()"
      ],
      "metadata": {
        "colab": {
          "base_uri": "https://localhost:8080/",
          "height": 295
        },
        "id": "800I8tfze3KJ",
        "outputId": "15074102-62e3-4753-b9b4-8800b070fafc"
      },
      "execution_count": 31,
      "outputs": [
        {
          "output_type": "display_data",
          "data": {
            "text/plain": [
              "<Figure size 432x288 with 1 Axes>"
            ],
            "image/png": "[encoded data removed]"
          },
          "metadata": {
            "needs_background": "light"
          }
        }
      ]
    },
    {
      "cell_type": "markdown",
      "source": [
        "## Loss curves\n",
        "Lets observe how training error decreases with epochs."
      ],
      "metadata": {
        "id": "bdsk2Z51ecSs"
      }
    },
    {
      "cell_type": "code",
      "source": [
        "clf_nn = MLPClassifier(hidden_layer_sizes=(5, 2), random_state=7, max_iter=1, warm_start=True)\n",
        "clf_nn.set_params(alpha=best_params['alpha'], learning_rate_init=best_params['learning_rate_init'])\n",
        "num_epochs = 1000\n",
        "train_loss = np.empty(num_epochs)\n",
        "train_scores = np.empty(num_epochs)\n",
        "val_scores = np.empty(num_epochs)\n",
        "# Split training set into training and validation\n",
        "X_train1, X_val, y_train1, y_val = train_test_split(X_train_scaled, y_train, test_size=0.2, random_state=18)\n",
        "for i in range(num_epochs):\n",
        "    clf_nn.fit(X_train1, y_train1)\n",
        "    train_loss[i] = clf_nn.loss_\n",
        "    train_scores[i] = accuracy_score(y_train1, clf_nn.predict(X_train1))\n",
        "    val_scores[i] = accuracy_score(y_val, clf_nn.predict(X_val))\n",
        "\n",
        "nn_y_pred = clf_nn.predict(X_test_scaled)\n",
        "nn_accuracy = accuracy_score(y_test, nn_y_pred)\n",
        "print('Accuracy of neural network is %.2f%%' % (nn_accuracy * 100))\n",
        "\n",
        "xrange = np.arange(num_epochs) + 1\n",
        "plt.figure()\n",
        "plt.plot(xrange, train_loss)\n",
        "plt.title('Training loss curve for neural network')\n",
        "plt.xlabel('Epochs')\n",
        "plt.ylabel(\"Loss\")\n",
        "plt.grid()\n",
        "#plt.savefig(fig_path + 'nn_train_loss.png')\n",
        "plt.show()\n",
        "\n",
        "plt.figure()\n",
        "plt.plot(xrange, train_scores, label='Training score')\n",
        "plt.plot(xrange, val_scores, label='Validation score')\n",
        "plt.title('Training and validation score curve for neural network')\n",
        "plt.xlabel('Epochs')\n",
        "plt.ylabel(\"Classification score\")\n",
        "plt.grid()\n",
        "plt.legend(loc=\"best\")\n",
        "#plt.savefig(fig_path + 'nn_score_curve.png')\n",
        "plt.show()"
      ],
      "metadata": {
        "colab": {
          "base_uri": "https://localhost:8080/",
          "height": 591
        },
        "id": "yI00r8X3ed1t",
        "outputId": "59e222c9-777b-49e6-a914-3c7b8fd7ed8e"
      },
      "execution_count": 32,
      "outputs": [
        {
          "output_type": "stream",
          "name": "stdout",
          "text": [
            "Accuracy of neural network is 57.58%\n"
          ]
        },
        {
          "output_type": "display_data",
          "data": {
            "text/plain": [
              "<Figure size 432x288 with 1 Axes>"
            ],
            "image/png": "[encoded data removed]"
          },
          "metadata": {
            "needs_background": "light"
          }
        },
        {
          "output_type": "display_data",
          "data": {
            "text/plain": [
              "<Figure size 432x288 with 1 Axes>"
            ],
            "image/png": "[encoded data removed]"
          },
          "metadata": {
            "needs_background": "light"
          }
        }
      ]
    },
    {
      "cell_type": "markdown",
      "source": [
        "AdaBoosting"
      ],
      "metadata": {
        "id": "QllI0JHiuuv-"
      }
    },
    {
      "cell_type": "code",
      "source": [
        "# Train the AdaBoost Classifier using a DecisionTreeClassifier as the base classifier\n",
        "dt = DecisionTreeClassifier(max_depth=1, random_state=1)\n",
        "\n"
      ],
      "metadata": {
        "id": "0YQVe1eeu0ES"
      },
      "execution_count": 33,
      "outputs": []
    },
    {
      "cell_type": "markdown",
      "source": [
        "Hyperparameter tuning"
      ],
      "metadata": {
        "id": "1nqoUBh9vhlj"
      }
    },
    {
      "cell_type": "code",
      "source": [
        "# Define the base classifier\n",
        "dt = DecisionTreeClassifier(max_depth=1, random_state=1)\n",
        "\n",
        "# Define the AdaBoostClassifier\n",
        "ada = AdaBoostClassifier(base_estimator=dt, random_state=1)\n",
        "\n",
        "# Define the hyperparameter grid to search over\n",
        "param_grid = {'n_estimators': [50, 100, 200, 300],\n",
        "              'learning_rate': [0.01, 0.1, 1.0, 2.0]}\n",
        "\n",
        "# Perform a grid search to find the best hyperparameters\n",
        "ada_grid_search = GridSearchCV(ada, param_grid, cv=5, scoring='accuracy')\n",
        "\n",
        "t0 = time.time()\n",
        "ada_grid_search.fit(X_train, y_train)\n",
        "t1 = time.time()\n",
        "train_time[2] = t1-t0\n",
        "print('Completed training in %f seconds' % train_time[2])\n",
        "\n",
        "# Print the best hyperparameters and corresponding accuracy\n",
        "print('Best parameters: ', ada_grid_search.best_params_)\n",
        "print('Best accuracy: %.2f' % ada_grid_search.best_score_)\n",
        "\n",
        "\n",
        "# Predict the target variable for the test set\n",
        "\n",
        "t0 = time.time()\n",
        "ada_y_pred = ada_grid_search.predict(X_test)\n",
        "t1 = time.time()\n",
        "test_time[2] = t1 - t0\n",
        "print('Inference time on test data: %f seconds' % test_time[2])\n",
        "\n",
        "# Evaluate the model's accuracy\n",
        "best_accuracy[2] = accuracy_score(y_test, ada_y_pred)\n",
        "print('Accuracy: %.2f' % best_accuracy[2])\n"
      ],
      "metadata": {
        "colab": {
          "base_uri": "https://localhost:8080/"
        },
        "id": "NTtb33o-rk3M",
        "outputId": "96849f53-952e-4433-8990-e1edaca6594f"
      },
      "execution_count": 52,
      "outputs": [
        {
          "output_type": "stream",
          "name": "stdout",
          "text": [
            "Completed training in 27.099131 seconds\n",
            "Best parameters:  {'learning_rate': 0.1, 'n_estimators': 100}\n",
            "Best accuracy: 0.78\n",
            "Inference time on test data: 0.022973 seconds\n",
            "Accuracy: 0.73\n"
          ]
        }
      ]
    },
    {
      "cell_type": "code",
      "source": [
        "#roc=roc_auc_score(y_test, ada_y_pred)\n",
        "acc = accuracy_score(y_test, ada_y_pred)\n",
        "prec = precision_score(y_test, ada_y_pred)\n",
        "rec = recall_score(y_test, ada_y_pred)\n",
        "f1 = f1_score(y_test, ada_y_pred)\n",
        "roc= roc_auc_score(y_test, ada_y_pred)\n",
        "results = pd.DataFrame([['AdaBoosting', acc,prec,rec, f1,roc]],\n",
        "columns = ['Model', 'Accuracy', 'Precision', 'Recall', 'F1 Score','ROC'])\n",
        "results"
      ],
      "metadata": {
        "colab": {
          "base_uri": "https://localhost:8080/",
          "height": 81
        },
        "id": "2C9KjRfQGoM2",
        "outputId": "d8dc174a-34df-447f-f59e-e2b9cc159478"
      },
      "execution_count": 54,
      "outputs": [
        {
          "output_type": "execute_result",
          "data": {
            "text/plain": [
              "         Model  Accuracy  Precision    Recall  F1 Score       ROC\n",
              "0  AdaBoosting  0.727273   0.761194  0.520408  0.618182  0.700054"
            ],
            "text/html": [
              "\n",
              "  <div id=\"df-2eea82fa-00c1-454c-b3c5-56969769b245\">\n",
              "    <div class=\"colab-df-container\">\n",
              "      <div>\n",
              "<style scoped>\n",
              "    .dataframe tbody tr th:only-of-type {\n",
              "        vertical-align: middle;\n",
              "    }\n",
              "\n",
              "    .dataframe tbody tr th {\n",
              "        vertical-align: top;\n",
              "    }\n",
              "\n",
              "    .dataframe thead th {\n",
              "        text-align: right;\n",
              "    }\n",
              "</style>\n",
              "<table border=\"1\" class=\"dataframe\">\n",
              "  <thead>\n",
              "    <tr style=\"text-align: right;\">\n",
              "      <th></th>\n",
              "      <th>Model</th>\n",
              "      <th>Accuracy</th>\n",
              "      <th>Precision</th>\n",
              "      <th>Recall</th>\n",
              "      <th>F1 Score</th>\n",
              "      <th>ROC</th>\n",
              "    </tr>\n",
              "  </thead>\n",
              "  <tbody>\n",
              "    <tr>\n",
              "      <th>0</th>\n",
              "      <td>AdaBoosting</td>\n",
              "      <td>0.727273</td>\n",
              "      <td>0.761194</td>\n",
              "      <td>0.520408</td>\n",
              "      <td>0.618182</td>\n",
              "      <td>0.700054</td>\n",
              "    </tr>\n",
              "  </tbody>\n",
              "</table>\n",
              "</div>\n",
              "      <button class=\"colab-df-convert\" onclick=\"convertToInteractive('df-2eea82fa-00c1-454c-b3c5-56969769b245')\"\n",
              "              title=\"Convert this dataframe to an interactive table.\"\n",
              "              style=\"display:none;\">\n",
              "        \n",
              "  <svg xmlns=\"http://www.w3.org/2000/svg\" height=\"24px\"viewBox=\"0 0 24 24\"\n",
              "       width=\"24px\">\n",
              "    <path d=\"M0 0h24v24H0V0z\" fill=\"none\"/>\n",
              "    <path d=\"M18.56 5.44l.94 2.06.94-2.06 2.06-.94-2.06-.94-.94-2.06-.94 2.06-2.06.94zm-11 1L8.5 8.5l.94-2.06 2.06-.94-2.06-.94L8.5 2.5l-.94 2.06-2.06.94zm10 10l.94 2.06.94-2.06 2.06-.94-2.06-.94-.94-2.06-.94 2.06-2.06.94z\"/><path d=\"M17.41 7.96l-1.37-1.37c-.4-.4-.92-.59-1.43-.59-.52 0-1.04.2-1.43.59L10.3 9.45l-7.72 7.72c-.78.78-.78 2.05 0 2.83L4 21.41c.39.39.9.59 1.41.59.51 0 1.02-.2 1.41-.59l7.78-7.78 2.81-2.81c.8-.78.8-2.07 0-2.86zM5.41 20L4 18.59l7.72-7.72 1.47 1.35L5.41 20z\"/>\n",
              "  </svg>\n",
              "      </button>\n",
              "      \n",
              "  <style>\n",
              "    .colab-df-container {\n",
              "      display:flex;\n",
              "      flex-wrap:wrap;\n",
              "      gap: 12px;\n",
              "    }\n",
              "\n",
              "    .colab-df-convert {\n",
              "      background-color: #E8F0FE;\n",
              "      border: none;\n",
              "      border-radius: 50%;\n",
              "      cursor: pointer;\n",
              "      display: none;\n",
              "      fill: #1967D2;\n",
              "      height: 32px;\n",
              "      padding: 0 0 0 0;\n",
              "      width: 32px;\n",
              "    }\n",
              "\n",
              "    .colab-df-convert:hover {\n",
              "      background-color: #E2EBFA;\n",
              "      box-shadow: 0px 1px 2px rgba(60, 64, 67, 0.3), 0px 1px 3px 1px rgba(60, 64, 67, 0.15);\n",
              "      fill: #174EA6;\n",
              "    }\n",
              "\n",
              "    [theme=dark] .colab-df-convert {\n",
              "      background-color: #3B4455;\n",
              "      fill: #D2E3FC;\n",
              "    }\n",
              "\n",
              "    [theme=dark] .colab-df-convert:hover {\n",
              "      background-color: #434B5C;\n",
              "      box-shadow: 0px 1px 3px 1px rgba(0, 0, 0, 0.15);\n",
              "      filter: drop-shadow(0px 1px 2px rgba(0, 0, 0, 0.3));\n",
              "      fill: #FFFFFF;\n",
              "    }\n",
              "  </style>\n",
              "\n",
              "      <script>\n",
              "        const buttonEl =\n",
              "          document.querySelector('#df-2eea82fa-00c1-454c-b3c5-56969769b245 button.colab-df-convert');\n",
              "        buttonEl.style.display =\n",
              "          google.colab.kernel.accessAllowed ? 'block' : 'none';\n",
              "\n",
              "        async function convertToInteractive(key) {\n",
              "          const element = document.querySelector('#df-2eea82fa-00c1-454c-b3c5-56969769b245');\n",
              "          const dataTable =\n",
              "            await google.colab.kernel.invokeFunction('convertToInteractive',\n",
              "                                                     [key], {});\n",
              "          if (!dataTable) return;\n",
              "\n",
              "          const docLinkHtml = 'Like what you see? Visit the ' +\n",
              "            '<a target=\"_blank\" href=https://colab.research.google.com/notebooks/data_table.ipynb>data table notebook</a>'\n",
              "            + ' to learn more about interactive tables.';\n",
              "          element.innerHTML = '';\n",
              "          dataTable['output_type'] = 'display_data';\n",
              "          await google.colab.output.renderOutput(dataTable, element);\n",
              "          const docLink = document.createElement('div');\n",
              "          docLink.innerHTML = docLinkHtml;\n",
              "          element.appendChild(docLink);\n",
              "        }\n",
              "      </script>\n",
              "    </div>\n",
              "  </div>\n",
              "  "
            ]
          },
          "metadata": {},
          "execution_count": 54
        }
      ]
    },
    {
      "cell_type": "markdown",
      "source": [
        "#Validation Curve"
      ],
      "metadata": {
        "id": "ocBU7pfou9zN"
      }
    },
    {
      "cell_type": "code",
      "source": [
        "# Define the base classifier\n",
        "dt = DecisionTreeClassifier(max_depth=1, random_state=1)\n",
        "\n",
        "# Define the range of n_estimators to evaluate\n",
        "param_range = np.arange(1, 200, 2)\n",
        "\n",
        "# Train the AdaBoost Classifier using a DecisionTreeClassifier as the base classifier\n",
        "train_scores, test_scores = validation_curve(\n",
        "    AdaBoostClassifier(base_estimator=dt, random_state=1), X_train_scaled, y_train,\n",
        "    param_name=\"n_estimators\", param_range=param_range, cv=3, scoring=\"accuracy\", n_jobs=-1)\n",
        "\n",
        "# Calculate the mean and standard deviation for the training scores\n",
        "train_mean = np.mean(train_scores, axis=1)\n",
        "train_std = np.std(train_scores, axis=1)\n",
        "\n",
        "# Calculate the mean and standard deviation for the test scores\n",
        "test_mean = np.mean(test_scores, axis=1)\n",
        "test_std = np.std(test_scores, axis=1)\n",
        "\n",
        "# Plot the validation curve\n",
        "plt.plot(param_range, train_mean, label=\"Training score\")\n",
        "plt.plot(param_range, test_mean, label=\"Cross-validation score\")\n",
        "\n",
        "\n",
        "\n",
        "# Add labels and a title to the plot\n",
        "plt.xlabel(\"Number of Estimators\")\n",
        "plt.ylabel(\"Accuracy Score\")\n",
        "plt.title(\"Validation Curve with AdaBoost\")\n",
        "plt.tight_layout()\n",
        "plt.legend(loc=\"best\")\n",
        "plt.show()"
      ],
      "metadata": {
        "colab": {
          "base_uri": "https://localhost:8080/",
          "height": 297
        },
        "id": "zKpEro5bs4l_",
        "outputId": "cd8f31f0-e083-4dfd-b74c-6df50d0cc437"
      },
      "execution_count": 55,
      "outputs": [
        {
          "output_type": "display_data",
          "data": {
            "text/plain": [
              "<Figure size 432x288 with 1 Axes>"
            ],
            "image/png": "[encoded data removed]"
          },
          "metadata": {
            "needs_background": "light"
          }
        }
      ]
    },
    {
      "cell_type": "markdown",
      "source": [
        "#Learning Curve"
      ],
      "metadata": {
        "id": "3Qfdd2HXuR5T"
      }
    },
    {
      "cell_type": "code",
      "source": [
        "# Define the base classifier\n",
        "dt = DecisionTreeClassifier(max_depth=1, random_state=1)\n",
        "\n",
        "# Define the AdaBoostClassifier\n",
        "ada = AdaBoostClassifier(base_estimator=dt, n_estimators=50, learning_rate=1.0, random_state=1)\n",
        "\n",
        "# Calculate the training and validation scores for different sizes of the training set\n",
        "train_sizes, train_scores, valid_scores = learning_curve(ada, X_train_scaled, y_train, cv=5)\n",
        "\n",
        "# Plot the learning curve\n",
        "plt.plot(train_sizes, train_scores.mean(axis=1), label='Training score')\n",
        "plt.plot(train_sizes, valid_scores.mean(axis=1), label='Validation score')\n",
        "plt.xlabel('Training set size')\n",
        "plt.ylabel('Accuracy')\n",
        "plt.title('AdaBoostClassifier Learning Curve')\n",
        "plt.legend()\n",
        "plt.show()"
      ],
      "metadata": {
        "colab": {
          "base_uri": "https://localhost:8080/",
          "height": 295
        },
        "id": "ftUOX2tcuVkZ",
        "outputId": "f3758df8-94ff-48f3-a6b7-14b7d245b34c"
      },
      "execution_count": 56,
      "outputs": [
        {
          "output_type": "display_data",
          "data": {
            "text/plain": [
              "<Figure size 432x288 with 1 Axes>"
            ],
            "image/png": "[encoded data removed]"
          },
          "metadata": {
            "needs_background": "light"
          }
        }
      ]
    },
    {
      "cell_type": "markdown",
      "source": [
        "#Support Vector Machines\n",
        "We will use an SVM with a linear kernel."
      ],
      "metadata": {
        "id": "iduzcP3pC-nw"
      }
    },
    {
      "cell_type": "code",
      "source": [
        "SVM_db_model = SVC(C = 10)\n",
        "\n",
        "SVM_db_model.fit(X_train_scaled, y_train)\n",
        "svm_y_pred = SVM_db_model.predict(X_test_scaled)\n",
        "dt_accuracy = accuracy_score(y_test, svm_y_pred)\n",
        "print('Accuracy of Support Vector Machines with hyperparameter tuning is %.2f%%' % (dt_accuracy*100))"
      ],
      "metadata": {
        "colab": {
          "base_uri": "https://localhost:8080/"
        },
        "id": "8K_t9poPFyHn",
        "outputId": "ff1da7b1-9620-40a7-99c1-a22a30c4e77b"
      },
      "execution_count": 57,
      "outputs": [
        {
          "output_type": "stream",
          "name": "stdout",
          "text": [
            "Accuracy of Support Vector Machines with hyperparameter tuning is 69.26%\n"
          ]
        }
      ]
    },
    {
      "cell_type": "code",
      "source": [
        "from sklearn import svm\n",
        "svm_linear = svm.SVC(kernel='linear')\n",
        "svm_linear.fit(X_train, y_train)"
      ],
      "metadata": {
        "colab": {
          "base_uri": "https://localhost:8080/"
        },
        "id": "kkB4Sr8JHaKl",
        "outputId": "dc12144d-bd0a-4f84-adf9-c4b45ad07cd0"
      },
      "execution_count": 58,
      "outputs": [
        {
          "output_type": "execute_result",
          "data": {
            "text/plain": [
              "SVC(kernel='linear')"
            ]
          },
          "metadata": {},
          "execution_count": 58
        }
      ]
    },
    {
      "cell_type": "markdown",
      "source": [
        "# Validation curve\n",
        "Let's plot the training and cross-validation scores wrt the penalty parameter $C$ (which controls regularization)."
      ],
      "metadata": {
        "id": "L67aKo7aFYKd"
      }
    },
    {
      "cell_type": "code",
      "source": [
        "\n",
        "C_range = np.logspace(-3, 3, 7)\n",
        "train_scores, test_scores = validation_curve(svm_linear, X_train_scaled, y_train, param_name=\"C\", param_range=C_range, cv=5)\n",
        "\n",
        "plt.figure()\n",
        "plt.semilogx(C_range, np.mean(train_scores, axis=1), label='Training score')\n",
        "plt.semilogx(C_range, np.mean(test_scores, axis=1), label='Cross-validation score')\n",
        "plt.title('Validation curve for SVM (linear kernel)')\n",
        "plt.xlabel('C')\n",
        "plt.ylabel(\"Classification score\")\n",
        "plt.legend(loc=\"best\")\n",
        "plt.grid()\n",
        "\n",
        "plt.show()"
      ],
      "metadata": {
        "colab": {
          "base_uri": "https://localhost:8080/",
          "height": 299
        },
        "id": "IFMQlD3SDBfS",
        "outputId": "be6ff2ac-ad71-4a35-9ff7-59cb1acc4d77"
      },
      "execution_count": 59,
      "outputs": [
        {
          "output_type": "display_data",
          "data": {
            "text/plain": [
              "<Figure size 432x288 with 1 Axes>"
            ],
            "image/png": "[encoded data removed]"
          },
          "metadata": {
            "needs_background": "light"
          }
        }
      ]
    },
    {
      "cell_type": "markdown",
      "source": [
        "# Hyperparameter tuning\n",
        "Based on the validation curve plotted above, we will now define an appropriate grid for $C$ and tune it."
      ],
      "metadata": {
        "id": "VOVPJEQiGMv3"
      }
    },
    {
      "cell_type": "code",
      "source": [
        "C_range = np.logspace(-2, 1, 10)\n",
        "tuned_params = {'C' : C_range}\n",
        "svm_linear = GridSearchCV(svm_linear, param_grid=tuned_params, cv=5)\n",
        "t0 = time.time()\n",
        "svm_linear.fit(X_train_scaled, y_train)\n",
        "t1 = time.time()\n",
        "train_time[3] = t1 - t0\n",
        "print('Completed training in %f seconds' % train_time[3])\n",
        "best_clf_svm = svm_linear\n",
        "best_params = svm_linear.best_params_\n",
        "print(\"Best parameters set found on development set:\")\n",
        "print(best_params)\n",
        "t0 = time.time()\n",
        "svm_y_pred = best_clf_svm.predict(X_test_scaled)\n",
        "t1 = time.time()\n",
        "test_time[3] = t1 - t0\n",
        "print('Inference time on test data: %f seconds' % test_time[3])\n",
        "best_accuracy[3] = accuracy_score(y_test, svm_y_pred)\n",
        "print('Best accuracy of SVM is %.2f%%' % (best_accuracy[3] * 100))"
      ],
      "metadata": {
        "colab": {
          "base_uri": "https://localhost:8080/"
        },
        "id": "W8eTJZsDGQOO",
        "outputId": "5d17941b-fce9-4f76-a287-3c14d441444a"
      },
      "execution_count": 60,
      "outputs": [
        {
          "output_type": "stream",
          "name": "stdout",
          "text": [
            "Completed training in 0.567120 seconds\n",
            "Best parameters set found on development set:\n",
            "{'C': 10.0}\n",
            "Inference time on test data: 0.003728 seconds\n",
            "Best accuracy of SVM is 73.16%\n"
          ]
        }
      ]
    },
    {
      "cell_type": "code",
      "source": [
        "roc=roc_auc_score(y_test, dtc_y_pred)\n",
        "acc = accuracy_score(y_test, dtc_y_pred)\n",
        "prec = precision_score(y_test, dtc_y_pred)\n",
        "rec = recall_score(y_test, dtc_y_pred)\n",
        "f1 = f1_score(y_test, dtc_y_pred)\n",
        "results = pd.DataFrame([['SVM', acc,prec,rec, f1,roc]],\n",
        "columns = ['Model', 'Accuracy', 'Precision', 'Recall', 'F1 Score','ROC'])\n",
        "results"
      ],
      "metadata": {
        "colab": {
          "base_uri": "https://localhost:8080/",
          "height": 81
        },
        "id": "GOd0CYVnKBZD",
        "outputId": "2f1a4ebc-06a6-41fc-869d-a1051d444183"
      },
      "execution_count": 61,
      "outputs": [
        {
          "output_type": "execute_result",
          "data": {
            "text/plain": [
              "  Model  Accuracy  Precision    Recall  F1 Score       ROC\n",
              "0   SVM  0.727273   0.705882  0.612245  0.655738  0.712137"
            ],
            "text/html": [
              "\n",
              "  <div id=\"df-c8dce063-1bda-492c-b751-c7f9c663009d\">\n",
              "    <div class=\"colab-df-container\">\n",
              "      <div>\n",
              "<style scoped>\n",
              "    .dataframe tbody tr th:only-of-type {\n",
              "        vertical-align: middle;\n",
              "    }\n",
              "\n",
              "    .dataframe tbody tr th {\n",
              "        vertical-align: top;\n",
              "    }\n",
              "\n",
              "    .dataframe thead th {\n",
              "        text-align: right;\n",
              "    }\n",
              "</style>\n",
              "<table border=\"1\" class=\"dataframe\">\n",
              "  <thead>\n",
              "    <tr style=\"text-align: right;\">\n",
              "      <th></th>\n",
              "      <th>Model</th>\n",
              "      <th>Accuracy</th>\n",
              "      <th>Precision</th>\n",
              "      <th>Recall</th>\n",
              "      <th>F1 Score</th>\n",
              "      <th>ROC</th>\n",
              "    </tr>\n",
              "  </thead>\n",
              "  <tbody>\n",
              "    <tr>\n",
              "      <th>0</th>\n",
              "      <td>SVM</td>\n",
              "      <td>0.727273</td>\n",
              "      <td>0.705882</td>\n",
              "      <td>0.612245</td>\n",
              "      <td>0.655738</td>\n",
              "      <td>0.712137</td>\n",
              "    </tr>\n",
              "  </tbody>\n",
              "</table>\n",
              "</div>\n",
              "      <button class=\"colab-df-convert\" onclick=\"convertToInteractive('df-c8dce063-1bda-492c-b751-c7f9c663009d')\"\n",
              "              title=\"Convert this dataframe to an interactive table.\"\n",
              "              style=\"display:none;\">\n",
              "        \n",
              "  <svg xmlns=\"http://www.w3.org/2000/svg\" height=\"24px\"viewBox=\"0 0 24 24\"\n",
              "       width=\"24px\">\n",
              "    <path d=\"M0 0h24v24H0V0z\" fill=\"none\"/>\n",
              "    <path d=\"M18.56 5.44l.94 2.06.94-2.06 2.06-.94-2.06-.94-.94-2.06-.94 2.06-2.06.94zm-11 1L8.5 8.5l.94-2.06 2.06-.94-2.06-.94L8.5 2.5l-.94 2.06-2.06.94zm10 10l.94 2.06.94-2.06 2.06-.94-2.06-.94-.94-2.06-.94 2.06-2.06.94z\"/><path d=\"M17.41 7.96l-1.37-1.37c-.4-.4-.92-.59-1.43-.59-.52 0-1.04.2-1.43.59L10.3 9.45l-7.72 7.72c-.78.78-.78 2.05 0 2.83L4 21.41c.39.39.9.59 1.41.59.51 0 1.02-.2 1.41-.59l7.78-7.78 2.81-2.81c.8-.78.8-2.07 0-2.86zM5.41 20L4 18.59l7.72-7.72 1.47 1.35L5.41 20z\"/>\n",
              "  </svg>\n",
              "      </button>\n",
              "      \n",
              "  <style>\n",
              "    .colab-df-container {\n",
              "      display:flex;\n",
              "      flex-wrap:wrap;\n",
              "      gap: 12px;\n",
              "    }\n",
              "\n",
              "    .colab-df-convert {\n",
              "      background-color: #E8F0FE;\n",
              "      border: none;\n",
              "      border-radius: 50%;\n",
              "      cursor: pointer;\n",
              "      display: none;\n",
              "      fill: #1967D2;\n",
              "      height: 32px;\n",
              "      padding: 0 0 0 0;\n",
              "      width: 32px;\n",
              "    }\n",
              "\n",
              "    .colab-df-convert:hover {\n",
              "      background-color: #E2EBFA;\n",
              "      box-shadow: 0px 1px 2px rgba(60, 64, 67, 0.3), 0px 1px 3px 1px rgba(60, 64, 67, 0.15);\n",
              "      fill: #174EA6;\n",
              "    }\n",
              "\n",
              "    [theme=dark] .colab-df-convert {\n",
              "      background-color: #3B4455;\n",
              "      fill: #D2E3FC;\n",
              "    }\n",
              "\n",
              "    [theme=dark] .colab-df-convert:hover {\n",
              "      background-color: #434B5C;\n",
              "      box-shadow: 0px 1px 3px 1px rgba(0, 0, 0, 0.15);\n",
              "      filter: drop-shadow(0px 1px 2px rgba(0, 0, 0, 0.3));\n",
              "      fill: #FFFFFF;\n",
              "    }\n",
              "  </style>\n",
              "\n",
              "      <script>\n",
              "        const buttonEl =\n",
              "          document.querySelector('#df-c8dce063-1bda-492c-b751-c7f9c663009d button.colab-df-convert');\n",
              "        buttonEl.style.display =\n",
              "          google.colab.kernel.accessAllowed ? 'block' : 'none';\n",
              "\n",
              "        async function convertToInteractive(key) {\n",
              "          const element = document.querySelector('#df-c8dce063-1bda-492c-b751-c7f9c663009d');\n",
              "          const dataTable =\n",
              "            await google.colab.kernel.invokeFunction('convertToInteractive',\n",
              "                                                     [key], {});\n",
              "          if (!dataTable) return;\n",
              "\n",
              "          const docLinkHtml = 'Like what you see? Visit the ' +\n",
              "            '<a target=\"_blank\" href=https://colab.research.google.com/notebooks/data_table.ipynb>data table notebook</a>'\n",
              "            + ' to learn more about interactive tables.';\n",
              "          element.innerHTML = '';\n",
              "          dataTable['output_type'] = 'display_data';\n",
              "          await google.colab.output.renderOutput(dataTable, element);\n",
              "          const docLink = document.createElement('div');\n",
              "          docLink.innerHTML = docLinkHtml;\n",
              "          element.appendChild(docLink);\n",
              "        }\n",
              "      </script>\n",
              "    </div>\n",
              "  </div>\n",
              "  "
            ]
          },
          "metadata": {},
          "execution_count": 61
        }
      ]
    },
    {
      "cell_type": "markdown",
      "source": [
        "# Learning curve"
      ],
      "metadata": {
        "id": "wEfYhZURGoVv"
      }
    },
    {
      "cell_type": "code",
      "source": [
        "train_sizes = np.linspace(0.1, 1.0, 5)\n",
        "_, train_scores, test_scores = learning_curve(best_clf_svm, X_train_scaled, y_train, train_sizes=train_sizes, cv=5)\n",
        "\n",
        "plt.figure()\n",
        "plt.plot(train_sizes, np.mean(train_scores, axis=1), 'o-', label='Training score')\n",
        "plt.plot(train_sizes, np.mean(test_scores, axis=1), 'o-', label='Cross-validation score')\n",
        "plt.title('Learning curve for SVM (linear kernel)')\n",
        "plt.xlabel('Fraction of training examples')\n",
        "plt.ylabel(\"Classification score\")\n",
        "plt.legend(loc=\"best\")\n",
        "plt.grid()\n",
        "#plt.savefig(fig_path + 'dt_learning_curve.png')\n",
        "plt.show()"
      ],
      "metadata": {
        "colab": {
          "base_uri": "https://localhost:8080/",
          "height": 295
        },
        "id": "Tm6oDGPPGphX",
        "outputId": "e8af5f71-d054-45e1-a0ef-68d5acc169f3"
      },
      "execution_count": 62,
      "outputs": [
        {
          "output_type": "display_data",
          "data": {
            "text/plain": [
              "<Figure size 432x288 with 1 Axes>"
            ],
            "image/png": "[encoded data removed]"
          },
          "metadata": {
            "needs_background": "light"
          }
        }
      ]
    },
    {
      "cell_type": "markdown",
      "source": [
        "#KNN\n",
        "KNN algorithm is to classify a given data point based on the majority class of its K nearest neighbors in the training data.\n",
        "\n",
        "The algorithm can be sensitive to the choice of K, and selecting an appropriate value of K can be challenging"
      ],
      "metadata": {
        "id": "akK57q4OnBp7"
      }
    },
    {
      "cell_type": "code",
      "source": [
        "k_range = np.arange(1, 101)\n",
        "\n",
        "k_optimal = 7\n",
        "KNN_db_model = KNeighborsClassifier(n_neighbors=k_optimal)\n",
        "\n",
        "KNN_db_model.fit(X_train_scaled, y_train)\n",
        "knn_y_pred = KNN_db_model.predict(X_test_scaled)\n",
        "knnbest_accuracy = accuracy_score(y_test, knn_y_pred)\n",
        "print('Accuracy of Support Vector Machines with hyperparameter tuning is %.2f%%' % (knnbest_accuracy*100))"
      ],
      "metadata": {
        "colab": {
          "base_uri": "https://localhost:8080/"
        },
        "id": "AXsV_m-Ziyo9",
        "outputId": "6fbf3f4a-bb09-44a1-dcab-37937f4db061"
      },
      "execution_count": 63,
      "outputs": [
        {
          "output_type": "stream",
          "name": "stdout",
          "text": [
            "Accuracy of Support Vector Machines with hyperparameter tuning is 69.70%\n"
          ]
        }
      ]
    },
    {
      "cell_type": "markdown",
      "source": [
        "##Validation Curve\n",
        "Lets plot the validation curve to understand the effect of K value on performance "
      ],
      "metadata": {
        "id": "XfXLEU3NnU1k"
      }
    },
    {
      "cell_type": "code",
      "source": [
        "k_range = np.arange(1, 101)\n",
        "train_scores, test_scores = validation_curve(KNeighborsClassifier(), X_train_scaled, y_train, param_name=\"n_neighbors\", \n",
        "                                             param_range=k_range, cv=5)\n",
        "\n",
        "plt.figure()\n",
        "plt.plot(k_range, np.mean(train_scores, axis=1), label='Training score')\n",
        "plt.plot(k_range, np.mean(test_scores, axis=1), label='Cross-validation score')\n",
        "plt.title('Validation curve for kNN')\n",
        "plt.xlabel('k')\n",
        "plt.ylabel(\"Classification score\")\n",
        "plt.legend(loc=\"best\")\n",
        "plt.grid()\n",
        "#plt.savefig(fig_path + 'dt_validation_curve_1.png')\n",
        "plt.show()"
      ],
      "metadata": {
        "colab": {
          "base_uri": "https://localhost:8080/",
          "height": 295
        },
        "id": "pV_j9sOCnfg6",
        "outputId": "8597bd5b-a1a2-455b-f248-92c03262b8e2"
      },
      "execution_count": 64,
      "outputs": [
        {
          "output_type": "display_data",
          "data": {
            "text/plain": [
              "<Figure size 432x288 with 1 Axes>"
            ],
            "image/png": "[encoded data removed]"
          },
          "metadata": {
            "needs_background": "light"
          }
        }
      ]
    },
    {
      "cell_type": "markdown",
      "source": [
        "# Hyperparameter tuning\n",
        "Based on the validation curve plotted above, we will now define an appropriate grid for K and tune it."
      ],
      "metadata": {
        "id": "I6ijatChoeKJ"
      }
    },
    {
      "cell_type": "code",
      "source": [
        "param_grid = {'n_neighbors': [3, 5, 7, 9], 'weights': ['uniform', 'distance']}\n",
        "\n",
        "\n",
        "\n",
        "best_clf_knn = KNeighborsClassifier()\n",
        "kn_grid_search = GridSearchCV(best_clf_knn, param_grid, cv=5)\n",
        "\n",
        "t0 = time.time()\n",
        "kn_grid_search.fit(X_train_scaled, y_train)\n",
        "t1 = time.time()\n",
        "train_time[4] = t1-t0\n",
        "print('Completed training in %f seconds' % train_time[4])\n",
        "t0 = time.time()\n",
        "kn_y_pred = kn_grid_search.predict(X_test)\n",
        "t1 = time.time()\n",
        "test_time[4] = t1 - t0\n",
        "print('Inference kn_grid_search on test data: %f seconds' % test_time[4])\n",
        "best_params = kn_grid_search.best_params_\n",
        "print(\"Best parameters set found on development set:\")\n",
        "print(best_params)\n",
        "t0 = time.time()\n",
        "\n",
        "# Get the best hyperparameters found by GridSearchCV\n",
        "print(\"Best hyperparameters: \", kn_grid_search.best_params_)\n",
        "\n",
        "# Get the best cross-validation score achieved\n",
        "print(\"Best CV accuracy: \", kn_grid_search.best_score_)\n",
        "\n",
        "# Get the test set accuracy of the best model\n",
        "print(\"Test set accuracy: \", kn_grid_search.score(X_test, y_test))\n",
        "best_accuracy[4] = accuracy_score(y_test, kn_y_pred)\n",
        "print('Best accuracy of SVM is %.2f%%' % (best_accuracy[4] * 100))"
      ],
      "metadata": {
        "colab": {
          "base_uri": "https://localhost:8080/"
        },
        "id": "kFcCkzcHomuY",
        "outputId": "534d9465-60a6-434e-a3c5-d37d8d7d5791"
      },
      "execution_count": 65,
      "outputs": [
        {
          "output_type": "stream",
          "name": "stdout",
          "text": [
            "Completed training in 0.188093 seconds\n",
            "Inference kn_grid_search on test data: 0.004906 seconds\n",
            "Best parameters set found on development set:\n",
            "{'n_neighbors': 7, 'weights': 'distance'}\n",
            "Best hyperparameters:  {'n_neighbors': 7, 'weights': 'distance'}\n",
            "Best CV accuracy:  0.7448251990308065\n",
            "Test set accuracy:  0.6926406926406926\n",
            "Best accuracy of SVM is 69.26%\n"
          ]
        }
      ]
    },
    {
      "cell_type": "code",
      "source": [
        "roc=roc_auc_score(y_test, kn_y_pred)\n",
        "acc = accuracy_score(y_test, kn_y_pred)\n",
        "prec = precision_score(y_test, kn_y_pred)\n",
        "rec = recall_score(y_test, kn_y_pred)\n",
        "f1 = f1_score(y_test, kn_y_pred)\n",
        "model_results = pd.DataFrame([['k-nearest neighbors', acc,prec,rec, f1,roc]],\n",
        "                columns = ['Model', 'Accuracy', 'Precision', 'Recall', 'F1 Score','ROC'])\n",
        "results = results.append(model_results,ignore_index = True)\n",
        "results"
      ],
      "metadata": {
        "colab": {
          "base_uri": "https://localhost:8080/",
          "height": 112
        },
        "id": "vrZ-ChNNI337",
        "outputId": "82975f93-c3a2-41e2-e0eb-dd22427bdc39"
      },
      "execution_count": 66,
      "outputs": [
        {
          "output_type": "execute_result",
          "data": {
            "text/plain": [
              "                 Model  Accuracy  Precision    Recall  F1 Score       ROC\n",
              "0                  SVM  0.727273   0.705882  0.612245  0.655738  0.712137\n",
              "1  k-nearest neighbors  0.692641   0.714286  0.459184  0.559006  0.661923"
            ],
            "text/html": [
              "\n",
              "  <div id=\"df-8f1dc2b9-d815-497f-87b0-dfc11198f613\">\n",
              "    <div class=\"colab-df-container\">\n",
              "      <div>\n",
              "<style scoped>\n",
              "    .dataframe tbody tr th:only-of-type {\n",
              "        vertical-align: middle;\n",
              "    }\n",
              "\n",
              "    .dataframe tbody tr th {\n",
              "        vertical-align: top;\n",
              "    }\n",
              "\n",
              "    .dataframe thead th {\n",
              "        text-align: right;\n",
              "    }\n",
              "</style>\n",
              "<table border=\"1\" class=\"dataframe\">\n",
              "  <thead>\n",
              "    <tr style=\"text-align: right;\">\n",
              "      <th></th>\n",
              "      <th>Model</th>\n",
              "      <th>Accuracy</th>\n",
              "      <th>Precision</th>\n",
              "      <th>Recall</th>\n",
              "      <th>F1 Score</th>\n",
              "      <th>ROC</th>\n",
              "    </tr>\n",
              "  </thead>\n",
              "  <tbody>\n",
              "    <tr>\n",
              "      <th>0</th>\n",
              "      <td>SVM</td>\n",
              "      <td>0.727273</td>\n",
              "      <td>0.705882</td>\n",
              "      <td>0.612245</td>\n",
              "      <td>0.655738</td>\n",
              "      <td>0.712137</td>\n",
              "    </tr>\n",
              "    <tr>\n",
              "      <th>1</th>\n",
              "      <td>k-nearest neighbors</td>\n",
              "      <td>0.692641</td>\n",
              "      <td>0.714286</td>\n",
              "      <td>0.459184</td>\n",
              "      <td>0.559006</td>\n",
              "      <td>0.661923</td>\n",
              "    </tr>\n",
              "  </tbody>\n",
              "</table>\n",
              "</div>\n",
              "      <button class=\"colab-df-convert\" onclick=\"convertToInteractive('df-8f1dc2b9-d815-497f-87b0-dfc11198f613')\"\n",
              "              title=\"Convert this dataframe to an interactive table.\"\n",
              "              style=\"display:none;\">\n",
              "        \n",
              "  <svg xmlns=\"http://www.w3.org/2000/svg\" height=\"24px\"viewBox=\"0 0 24 24\"\n",
              "       width=\"24px\">\n",
              "    <path d=\"M0 0h24v24H0V0z\" fill=\"none\"/>\n",
              "    <path d=\"M18.56 5.44l.94 2.06.94-2.06 2.06-.94-2.06-.94-.94-2.06-.94 2.06-2.06.94zm-11 1L8.5 8.5l.94-2.06 2.06-.94-2.06-.94L8.5 2.5l-.94 2.06-2.06.94zm10 10l.94 2.06.94-2.06 2.06-.94-2.06-.94-.94-2.06-.94 2.06-2.06.94z\"/><path d=\"M17.41 7.96l-1.37-1.37c-.4-.4-.92-.59-1.43-.59-.52 0-1.04.2-1.43.59L10.3 9.45l-7.72 7.72c-.78.78-.78 2.05 0 2.83L4 21.41c.39.39.9.59 1.41.59.51 0 1.02-.2 1.41-.59l7.78-7.78 2.81-2.81c.8-.78.8-2.07 0-2.86zM5.41 20L4 18.59l7.72-7.72 1.47 1.35L5.41 20z\"/>\n",
              "  </svg>\n",
              "      </button>\n",
              "      \n",
              "  <style>\n",
              "    .colab-df-container {\n",
              "      display:flex;\n",
              "      flex-wrap:wrap;\n",
              "      gap: 12px;\n",
              "    }\n",
              "\n",
              "    .colab-df-convert {\n",
              "      background-color: #E8F0FE;\n",
              "      border: none;\n",
              "      border-radius: 50%;\n",
              "      cursor: pointer;\n",
              "      display: none;\n",
              "      fill: #1967D2;\n",
              "      height: 32px;\n",
              "      padding: 0 0 0 0;\n",
              "      width: 32px;\n",
              "    }\n",
              "\n",
              "    .colab-df-convert:hover {\n",
              "      background-color: #E2EBFA;\n",
              "      box-shadow: 0px 1px 2px rgba(60, 64, 67, 0.3), 0px 1px 3px 1px rgba(60, 64, 67, 0.15);\n",
              "      fill: #174EA6;\n",
              "    }\n",
              "\n",
              "    [theme=dark] .colab-df-convert {\n",
              "      background-color: #3B4455;\n",
              "      fill: #D2E3FC;\n",
              "    }\n",
              "\n",
              "    [theme=dark] .colab-df-convert:hover {\n",
              "      background-color: #434B5C;\n",
              "      box-shadow: 0px 1px 3px 1px rgba(0, 0, 0, 0.15);\n",
              "      filter: drop-shadow(0px 1px 2px rgba(0, 0, 0, 0.3));\n",
              "      fill: #FFFFFF;\n",
              "    }\n",
              "  </style>\n",
              "\n",
              "      <script>\n",
              "        const buttonEl =\n",
              "          document.querySelector('#df-8f1dc2b9-d815-497f-87b0-dfc11198f613 button.colab-df-convert');\n",
              "        buttonEl.style.display =\n",
              "          google.colab.kernel.accessAllowed ? 'block' : 'none';\n",
              "\n",
              "        async function convertToInteractive(key) {\n",
              "          const element = document.querySelector('#df-8f1dc2b9-d815-497f-87b0-dfc11198f613');\n",
              "          const dataTable =\n",
              "            await google.colab.kernel.invokeFunction('convertToInteractive',\n",
              "                                                     [key], {});\n",
              "          if (!dataTable) return;\n",
              "\n",
              "          const docLinkHtml = 'Like what you see? Visit the ' +\n",
              "            '<a target=\"_blank\" href=https://colab.research.google.com/notebooks/data_table.ipynb>data table notebook</a>'\n",
              "            + ' to learn more about interactive tables.';\n",
              "          element.innerHTML = '';\n",
              "          dataTable['output_type'] = 'display_data';\n",
              "          await google.colab.output.renderOutput(dataTable, element);\n",
              "          const docLink = document.createElement('div');\n",
              "          docLink.innerHTML = docLinkHtml;\n",
              "          element.appendChild(docLink);\n",
              "        }\n",
              "      </script>\n",
              "    </div>\n",
              "  </div>\n",
              "  "
            ]
          },
          "metadata": {},
          "execution_count": 66
        }
      ]
    },
    {
      "cell_type": "code",
      "source": [
        "# Create a KNN classifier object with n_neighbors=5 and a uniform weighting\n",
        "knn = KNeighborsClassifier(n_neighbors=7, weights='distance')\n",
        "# Fit the classifier to the training data\n",
        "knn.fit(X_train_scaled, y_train)\n",
        "\n",
        "# Use the trained classifier to make predictions on the test data\n",
        "y_pred = knn.predict(X_train_scaled)\n",
        "# Evaluate the accuracy of the classifier\n",
        "accuracy = knn.score(X_train_scaled, y_pred)\n",
        "print(\"Accuracy:\", accuracy)\n",
        "print('Best accuracy with KNN  is %.2f%%' % (accuracy * 100))"
      ],
      "metadata": {
        "colab": {
          "base_uri": "https://localhost:8080/"
        },
        "id": "sGhkUnjkwV04",
        "outputId": "2ce00b81-7774-4bd6-b43b-86489e16b5b0"
      },
      "execution_count": 67,
      "outputs": [
        {
          "output_type": "stream",
          "name": "stdout",
          "text": [
            "Accuracy: 1.0\n",
            "Best accuracy with KNN  is 100.00%\n"
          ]
        }
      ]
    },
    {
      "cell_type": "markdown",
      "source": [
        "## Learning Curve"
      ],
      "metadata": {
        "id": "2y1f-k8ND5k9"
      }
    },
    {
      "cell_type": "code",
      "source": [
        "train_sizes = np.linspace(0.1, 1.0, 5)\n",
        "_, train_scores, test_scores = learning_curve(grid_search, X_train_scaled, y_train, train_sizes=train_sizes, cv=5)\n",
        "\n",
        "plt.figure()\n",
        "plt.plot(train_sizes, np.mean(train_scores, axis=1), 'o-', label='Training score')\n",
        "plt.plot(train_sizes, np.mean(test_scores, axis=1), 'o-', label='Cross-validation score')\n",
        "plt.title('Learning curve for kNN')\n",
        "plt.xlabel('Fraction of training examples')\n",
        "plt.ylabel(\"Classification score\")\n",
        "plt.legend(loc=\"best\")\n",
        "plt.grid()\n",
        "\n",
        "plt.show()"
      ],
      "metadata": {
        "colab": {
          "base_uri": "https://localhost:8080/",
          "height": 295
        },
        "id": "tetyqoK5D9w1",
        "outputId": "51bc6a77-7520-4101-95ea-f348ef1ed366"
      },
      "execution_count": 68,
      "outputs": [
        {
          "output_type": "display_data",
          "data": {
            "text/plain": [
              "<Figure size 432x288 with 1 Axes>"
            ],
            "image/png": "[encoded data removed]"
          },
          "metadata": {
            "needs_background": "light"
          }
        }
      ]
    },
    {
      "cell_type": "markdown",
      "source": [
        "Cross Validation using KFold for all Models"
      ],
      "metadata": {
        "id": "aJz9iA9FZ66a"
      }
    },
    {
      "cell_type": "code",
      "source": [
        "from sklearn.model_selection import KFold\n",
        "from sklearn.model_selection import cross_val_score\n",
        "from sklearn.tree import DecisionTreeClassifier\n",
        "from sklearn.neural_network import MLPClassifier\n",
        "from xgboost import XGBClassifier\n",
        "from sklearn.svm import SVC\n",
        "from sklearn.neighbors import KNeighborsClassifier\n",
        "\n",
        "\n",
        "\n",
        "models = []\n",
        "\n",
        "models.append((\"Decision Tree:\",DecisionTreeClassifier()))\n",
        "models.append((\"Neural network:\",MLPClassifier()))\n",
        "models.append((\"eXtreme Gradient Boost:\",XGBClassifier()))\n",
        "models.append((\"Support Vector Machine-linear:\",SVC(kernel=\"linear\",C=0.2)))\n",
        "models.append((\"Support Vector Machine-rbf:\",SVC(kernel=\"rbf\")))\n",
        "models.append((\"K-Nearest Neighbour:\",KNeighborsClassifier(n_neighbors=3)))\n",
        "\n",
        "\n",
        "\n",
        "\n",
        "\n",
        "print('Models appended...')"
      ],
      "metadata": {
        "colab": {
          "base_uri": "https://localhost:8080/"
        },
        "id": "bUM0A17YX2rI",
        "outputId": "d905f124-b3d8-43b5-cd04-f60e41e7378c"
      },
      "execution_count": 71,
      "outputs": [
        {
          "output_type": "stream",
          "name": "stdout",
          "text": [
            "Models appended...\n"
          ]
        }
      ]
    },
    {
      "cell_type": "code",
      "source": [
        "results = []\n",
        "names = []\n",
        "for name,model in models:\n",
        "    kfold = KFold(n_splits=5)\n",
        "    cv_result = cross_val_score(model,X_train,y_train, cv = kfold,scoring = \"accuracy\")\n",
        "    names.append(name)\n",
        "    results.append(cv_result)\n",
        "for i in range(len(names)):\n",
        "    print(names[i],results[i].mean()*100)"
      ],
      "metadata": {
        "colab": {
          "base_uri": "https://localhost:8080/"
        },
        "id": "rTl-mL2VZhHK",
        "outputId": "86390370-69d9-48bc-ff7a-7a22aabaae05"
      },
      "execution_count": 72,
      "outputs": [
        {
          "output_type": "stream",
          "name": "stdout",
          "text": [
            "Decision Tree: 70.20422291450329\n",
            "Neural network: 76.72551055728626\n",
            "eXtreme Gradient Boost: 75.98303911388024\n",
            "Support Vector Machine-linear: 78.20872274143302\n",
            "Support Vector Machine-rbf: 75.42402215299411\n",
            "K-Nearest Neighbour: 73.75216337833159\n"
          ]
        }
      ]
    },
    {
      "cell_type": "markdown",
      "source": [
        "# Comparing the classifiers\n",
        "We will now compare the 5 classifiers with respect to accuracy, training time "
      ],
      "metadata": {
        "id": "IyDBtb_xs9rx"
      }
    },
    {
      "cell_type": "code",
      "source": [
        "classifiers = ('Decision tree', 'Neural network', 'AdaBoost', 'SVM', 'kNN')\n",
        "y_pos = np.arange(len(classifiers))"
      ],
      "metadata": {
        "id": "FtV6YsjntCyk"
      },
      "execution_count": 69,
      "outputs": []
    },
    {
      "cell_type": "markdown",
      "source": [
        "## Accuracy"
      ],
      "metadata": {
        "id": "B4H9l4_htGA5"
      }
    },
    {
      "cell_type": "code",
      "source": [
        "plt.figure()\n",
        "plt.barh(y_pos, best_accuracy)\n",
        "plt.gca().set_yticks(y_pos)\n",
        "plt.gca().set_xlim(0.65, 0.8)\n",
        "plt.gca().set_yticklabels(classifiers)\n",
        "plt.gca().invert_yaxis() \n",
        "plt.title('Comparison of accuracies')\n",
        "plt.xlabel('Accuracy')\n",
        "plt.show()"
      ],
      "metadata": {
        "colab": {
          "base_uri": "https://localhost:8080/",
          "height": 295
        },
        "id": "51vToWchtIok",
        "outputId": "17cefe22-3447-44ca-dff4-ea4a1cc9f86a"
      },
      "execution_count": 70,
      "outputs": [
        {
          "output_type": "display_data",
          "data": {
            "text/plain": [
              "<Figure size 432x288 with 1 Axes>"
            ],
            "image/png": "[encoded data removed]"
          },
          "metadata": {
            "needs_background": "light"
          }
        }
      ]
    },
    {
      "cell_type": "markdown",
      "source": [
        "## Training time"
      ],
      "metadata": {
        "id": "5qzBD0mBerb1"
      }
    },
    {
      "cell_type": "code",
      "source": [
        "plt.figure()\n",
        "plt.barh(y_pos, train_time)\n",
        "plt.gca().set_yticks(y_pos)\n",
        "#plt.gca().set_xlim(0.9, 1.0)\n",
        "plt.gca().set_yticklabels(classifiers)\n",
        "plt.gca().invert_yaxis()  # labels read top-to-bottom\n",
        "plt.title('Comparison of training time')\n",
        "plt.xlabel('Training time (in seconds)')\n",
        "plt.show()"
      ],
      "metadata": {
        "colab": {
          "base_uri": "https://localhost:8080/",
          "height": 295
        },
        "id": "CiA46-ametkl",
        "outputId": "589c9247-ed27-416a-c4bb-2c858f214076"
      },
      "execution_count": 73,
      "outputs": [
        {
          "output_type": "display_data",
          "data": {
            "text/plain": [
              "<Figure size 432x288 with 1 Axes>"
            ],
            "image/png": "[encoded data removed]"
          },
          "metadata": {
            "needs_background": "light"
          }
        }
      ]
    },
    {
      "cell_type": "markdown",
      "source": [
        "## Inference time"
      ],
      "metadata": {
        "id": "3wgMCA9rezoW"
      }
    },
    {
      "cell_type": "code",
      "source": [
        "plt.figure()\n",
        "plt.barh(y_pos, test_time)\n",
        "plt.gca().set_yticks(y_pos)\n",
        "#plt.gca().set_xlim(0.9, 1.0)\n",
        "plt.gca().set_yticklabels(classifiers)\n",
        "plt.gca().invert_yaxis()  # labels read top-to-bottom\n",
        "plt.title('Comparison of inference time')\n",
        "plt.xlabel('Inference time (in seconds)')\n",
        "plt.show()"
      ],
      "metadata": {
        "colab": {
          "base_uri": "https://localhost:8080/",
          "height": 295
        },
        "id": "rIZMXHhTe2kl",
        "outputId": "2d7c3942-91ae-4cba-85d4-05eb95195df3"
      },
      "execution_count": 74,
      "outputs": [
        {
          "output_type": "display_data",
          "data": {
            "text/plain": [
              "<Figure size 432x288 with 1 Axes>"
            ],
            "image/png": "[encoded data removed]"
          },
          "metadata": {
            "needs_background": "light"
          }
        }
      ]
    }
  ]
}